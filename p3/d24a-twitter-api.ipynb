{
 "cells": [
  {
   "cell_type": "markdown",
   "source": [
    "# Twitter API ideas :\n",
    "- why? \"always listen to your customer\" (what they REALLY saying. which is where they express themselves in twitter & reddit). see sentiment score of given topic & most used keyword. (to understand news on a particular topic fast OR one of feature for stock algo)\n",
    "- have a frontend that input a query\n",
    "- returns 2 things:\n",
    "    1) sentiment score of that given keyword from both reddit AND twitter\n",
    "    2) wordcount from both reddit AND twitter\n",
    "\n",
    "\n",
    "- able to identify current trend of the market by listening directly to users on a certain topic sentiments ?"
   ],
   "metadata": {}
  },
  {
   "cell_type": "markdown",
   "source": [
    "# Obtain\n",
    "- SEMN steps do later\n",
    "- codes to retrieve twitter [here](https://github.com/twitterdev/Twitter-API-v2-sample-code)"
   ],
   "metadata": {}
  },
  {
   "cell_type": "code",
   "execution_count": 1,
   "source": [
    "# reference : https://towardsdatascience.com/searching-for-tweets-with-python-f659144b225f\n",
    "\n",
    "import pandas as pd\n",
    "import numpy as np\n",
    "import seaborn as sns\n",
    "import matplotlib.pyplot as plt\n",
    "\n",
    "import json\n",
    "import requests\n",
    "import os\n",
    "from dotenv import load_dotenv\n",
    "\n",
    "load_dotenv()\n",
    "\n",
    "\n",
    "BEARER_TOKEN = os.getenv('TWITTER_BEARER_TOKEN')\n",
    "#define search twitter function\n",
    "def search_twitter(query, tweet_fields, bearer_token = BEARER_TOKEN):\n",
    "    headers = {\"Authorization\": \"Bearer {}\".format(bearer_token)}\n",
    "\n",
    "    url = \"https://api.twitter.com/2/tweets/search/recent?query={}&{}\".format(\n",
    "        query, tweet_fields\n",
    "    )\n",
    "    response = requests.request(\"GET\", url, headers=headers)\n",
    "\n",
    "    print(response.status_code)\n",
    "\n",
    "    if response.status_code != 200:\n",
    "        raise Exception(response.status_code, response.text)\n",
    "    return response.json()"
   ],
   "outputs": [],
   "metadata": {}
  },
  {
   "cell_type": "code",
   "execution_count": 2,
   "source": [
    "#search term\n",
    "query = \"skateboarding dog\"\n",
    "#twitter fields to be returned by api call\n",
    "tweet_fields = \"tweet.fields=text,author_id,created_at\"\n",
    "\n",
    "#twitter api call\n",
    "json_response = search_twitter(query=query, tweet_fields=tweet_fields, bearer_token=BEARER_TOKEN)\n",
    "#pretty printing\n",
    "print(json.dumps(json_response, indent=4, sort_keys=True))"
   ],
   "outputs": [
    {
     "output_type": "stream",
     "name": "stdout",
     "text": [
      "200\n",
      "{\n",
      "    \"data\": [\n",
      "        {\n",
      "            \"author_id\": \"1256654802597089282\",\n",
      "            \"created_at\": \"2021-08-06T03:26:24.000Z\",\n",
      "            \"id\": \"1423485582861348865\",\n",
      "            \"text\": \"I MET THE SKATEBOARDING DOG https://t.co/QunznF2cmY\"\n",
      "        },\n",
      "        {\n",
      "            \"author_id\": \"474909411\",\n",
      "            \"created_at\": \"2021-08-06T01:02:38.000Z\",\n",
      "            \"id\": \"1423449403671683075\",\n",
      "            \"text\": \"Just in case anyone was keeping track at home, the Olympic skateboarding events were dog shit, and it was probably one of the worst organized events of the games. \\n\\nParis will come up big time on this one. \\n\\nCowabunga \\ud83e\\udd19\\ud83c\\udffb\"\n",
      "        },\n",
      "        {\n",
      "            \"author_id\": \"1023410515\",\n",
      "            \"created_at\": \"2021-08-05T22:25:42.000Z\",\n",
      "            \"id\": \"1423409909643763716\",\n",
      "            \"text\": \"RT @VippusaO: If you\\u2019ve already seen a dog skateboarding in overalls today just keep on scrolling...\\nvia RecChapman \\nhttps://t.co/E8SkBW3pr\\u2026\"\n",
      "        },\n",
      "        {\n",
      "            \"author_id\": \"1225793633342935043\",\n",
      "            \"created_at\": \"2021-08-05T21:48:16.000Z\",\n",
      "            \"id\": \"1423400489069293577\",\n",
      "            \"text\": \"If you\\u2019ve already seen a dog skateboarding in overalls today just keep on scrolling...\\nvia RecChapman \\nhttps://t.co/E8SkBW3prG 06\"\n",
      "        },\n",
      "        {\n",
      "            \"author_id\": \"1236176135458828288\",\n",
      "            \"created_at\": \"2021-08-05T19:03:29.000Z\",\n",
      "            \"id\": \"1423359017091489794\",\n",
      "            \"text\": \"Amazing skateboarding dog. #shorts https://t.co/b9DVghvLb7 via @YouTube\"\n",
      "        },\n",
      "        {\n",
      "            \"author_id\": \"1003481965935276032\",\n",
      "            \"created_at\": \"2021-08-05T16:00:04.000Z\",\n",
      "            \"id\": \"1423312858817785856\",\n",
      "            \"text\": \"@sydslilthings !!a skateboarding dog!! https://t.co/5zhk7lWWoZ\"\n",
      "        },\n",
      "        {\n",
      "            \"author_id\": \"2563616120\",\n",
      "            \"created_at\": \"2021-08-05T15:52:34.000Z\",\n",
      "            \"id\": \"1423310973667061760\",\n",
      "            \"text\": \"@FemmeboiRoy omg a skateboarding dog???? https://t.co/OIWK3bMyTg\"\n",
      "        },\n",
      "        {\n",
      "            \"author_id\": \"1003481965935276032\",\n",
      "            \"created_at\": \"2021-08-05T15:47:38.000Z\",\n",
      "            \"id\": \"1423309733402865674\",\n",
      "            \"text\": \"What's the dog doing?\\nSkateboarding, that's what the dog is doing https://t.co/z06rofZrgA\"\n",
      "        },\n",
      "        {\n",
      "            \"author_id\": \"1357698338364264456\",\n",
      "            \"created_at\": \"2021-08-05T06:43:50.000Z\",\n",
      "            \"id\": \"1423172878825033728\",\n",
      "            \"text\": \"#cryptocurrency #Crypto #AdBor\\n#Dog #FFXIV #skateboarding #vaccinated #AMC #GamblingTwitter\\nHey, join me on Oxygen to open a bank account. We would each get $10.0 when you just sign up and an additional $50.0 when you move your direct deposit over.\\n\\nhttps://t.co/7UK2R9yRcw\"\n",
      "        },\n",
      "        {\n",
      "            \"author_id\": \"1282858323864412160\",\n",
      "            \"created_at\": \"2021-08-05T04:14:50.000Z\",\n",
      "            \"id\": \"1423135383114637315\",\n",
      "            \"text\": \"12 possible medals in skateboarding and the country that invented it only got 2 bronzes. Embarrassing. Bones Brigade is punching the air rn. The lords of dog town are crying. California is on fire because of this.\"\n",
      "        }\n",
      "    ],\n",
      "    \"meta\": {\n",
      "        \"newest_id\": \"1423485582861348865\",\n",
      "        \"next_token\": \"b26v89c19zqg8o3fpdm7q4s7x0a6p3nywof2jltlpuv0d\",\n",
      "        \"oldest_id\": \"1423135383114637315\",\n",
      "        \"result_count\": 10\n",
      "    }\n",
      "}\n"
     ]
    }
   ],
   "metadata": {}
  },
  {
   "cell_type": "code",
   "execution_count": null,
   "source": [],
   "outputs": [],
   "metadata": {}
  }
 ],
 "metadata": {
  "orig_nbformat": 4,
  "language_info": {
   "name": "python",
   "version": "3.8.10",
   "mimetype": "text/x-python",
   "codemirror_mode": {
    "name": "ipython",
    "version": 3
   },
   "pygments_lexer": "ipython3",
   "nbconvert_exporter": "python",
   "file_extension": ".py"
  },
  "kernelspec": {
   "name": "python3",
   "display_name": "Python 3.8.10 64-bit ('quantra38': conda)"
  },
  "interpreter": {
   "hash": "ba02ef682c4040d20aeff24505da2d61e29df5e4d95d58036fbb82853e11aae6"
  }
 },
 "nbformat": 4,
 "nbformat_minor": 2
}