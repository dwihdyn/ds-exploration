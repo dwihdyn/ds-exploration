{
 "cells": [
  {
   "cell_type": "markdown",
   "id": "d2ccf520",
   "metadata": {},
   "source": [
    "# OSEMN Framework"
   ]
  },
  {
   "cell_type": "markdown",
   "id": "add4ea82",
   "metadata": {},
   "source": [
    "## Obtain"
   ]
  },
  {
   "cell_type": "code",
   "execution_count": 3,
   "id": "2459f82a",
   "metadata": {},
   "outputs": [],
   "source": [
    "import pandas as pd\n",
    "import numpy as np\n",
    "import seaborn as sns\n",
    "\n",
    "df = pd.read_csv('https://raw.githubusercontent.com/theleadio/datascience_demo/master/framingham.csv')"
   ]
  },
  {
   "cell_type": "markdown",
   "id": "480a0071",
   "metadata": {},
   "source": [
    "## Scrub\n",
    "\n",
    "- describe() to see which column has null value\n",
    "- convert all data to numerical"
   ]
  },
  {
   "cell_type": "markdown",
   "id": "9f602ea2",
   "metadata": {},
   "source": [
    "## Explore\n",
    "\n",
    "- Heatmap : to remove any features that's corr > 0.8\n",
    "- Boxplot : will do with & without outlier if outlier data > 5% of all data\n"
   ]
  },
  {
   "cell_type": "markdown",
   "id": "19c7d35d",
   "metadata": {},
   "source": [
    "## Model"
   ]
  },
  {
   "cell_type": "markdown",
   "id": "0efc0b14",
   "metadata": {},
   "source": [
    "## iNterpret"
   ]
  },
  {
   "cell_type": "markdown",
   "id": "be1b8372",
   "metadata": {},
   "source": []
  },
  {
   "cell_type": "code",
   "execution_count": null,
   "id": "0e5d3612",
   "metadata": {},
   "outputs": [],
   "source": []
  },
  {
   "cell_type": "code",
   "execution_count": null,
   "id": "548d71a7",
   "metadata": {},
   "outputs": [],
   "source": []
  }
 ],
 "metadata": {
  "kernelspec": {
   "display_name": "quantra38",
   "language": "python",
   "name": "quantra38"
  },
  "language_info": {
   "codemirror_mode": {
    "name": "ipython",
    "version": 3
   },
   "file_extension": ".py",
   "mimetype": "text/x-python",
   "name": "python",
   "nbconvert_exporter": "python",
   "pygments_lexer": "ipython3",
   "version": "3.8.10"
  }
 },
 "nbformat": 4,
 "nbformat_minor": 5
}
