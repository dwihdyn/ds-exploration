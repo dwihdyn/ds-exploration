{
 "cells": [
  {
   "cell_type": "code",
   "execution_count": 1,
   "source": [
    "import numpy as np"
   ],
   "outputs": [],
   "metadata": {}
  },
  {
   "cell_type": "code",
   "execution_count": 2,
   "source": [
    "np.random.seed(0)\n",
    "np.random.randint(low=1, high=100, size=10)"
   ],
   "outputs": [
    {
     "output_type": "execute_result",
     "data": {
      "text/plain": [
       "array([45, 48, 65, 68, 68, 10, 84, 22, 37, 88])"
      ]
     },
     "metadata": {},
     "execution_count": 2
    }
   ],
   "metadata": {}
  },
  {
   "cell_type": "code",
   "execution_count": 3,
   "source": [
    "np.random.seed(5)\n",
    "np.random.randint(low=1, high=100, size=10)"
   ],
   "outputs": [
    {
     "output_type": "execute_result",
     "data": {
      "text/plain": [
       "array([79, 62, 17, 74,  9, 63, 28, 31, 81,  8])"
      ]
     },
     "metadata": {},
     "execution_count": 3
    }
   ],
   "metadata": {}
  },
  {
   "cell_type": "code",
   "execution_count": 4,
   "source": [
    "np.random.seed(5)\n",
    "np.random.randint(low=1, high=100, size=10)"
   ],
   "outputs": [
    {
     "output_type": "execute_result",
     "data": {
      "text/plain": [
       "array([79, 62, 17, 74,  9, 63, 28, 31, 81,  8])"
      ]
     },
     "metadata": {},
     "execution_count": 4
    }
   ],
   "metadata": {}
  },
  {
   "cell_type": "code",
   "execution_count": 5,
   "source": [
    "np.random.seed(0)\n",
    "np.random.randint(low=1, high=100, size=10)"
   ],
   "outputs": [
    {
     "output_type": "execute_result",
     "data": {
      "text/plain": [
       "array([45, 48, 65, 68, 68, 10, 84, 22, 37, 88])"
      ]
     },
     "metadata": {},
     "execution_count": 5
    }
   ],
   "metadata": {}
  },
  {
   "cell_type": "markdown",
   "source": [
    "- random_state is feed into the equation that starts the sequence of random numbers. The same seed will give the same sequence of randomness.\n",
    "\n",
    "- So, it is not so “random”, it is pseudorandom controlled by a mathematical function."
   ],
   "metadata": {}
  },
  {
   "cell_type": "markdown",
   "source": [],
   "metadata": {}
  }
 ],
 "metadata": {
  "orig_nbformat": 4,
  "language_info": {
   "name": "python",
   "version": "3.8.10",
   "mimetype": "text/x-python",
   "codemirror_mode": {
    "name": "ipython",
    "version": 3
   },
   "pygments_lexer": "ipython3",
   "nbconvert_exporter": "python",
   "file_extension": ".py"
  },
  "kernelspec": {
   "name": "python3",
   "display_name": "Python 3.8.10 64-bit ('quantra38': conda)"
  },
  "interpreter": {
   "hash": "ba02ef682c4040d20aeff24505da2d61e29df5e4d95d58036fbb82853e11aae6"
  }
 },
 "nbformat": 4,
 "nbformat_minor": 2
}