{
 "cells": [
  {
   "cell_type": "markdown",
   "source": [
    "# Sentiment analysis on grab SPAC\n",
    "\n",
    "## Carried forward from d20. search \"d22 continue here\""
   ],
   "metadata": {}
  },
  {
   "cell_type": "markdown",
   "source": [
    "# Obtain"
   ],
   "metadata": {}
  },
  {
   "cell_type": "code",
   "execution_count": 7,
   "source": [
    "import requests\n",
    "\n",
    "# grab SPAC\n",
    "url = 'https://raw.githubusercontent.com/dwihdyn/ds-exploration/main/p3/data/grab-spac.txt'\n",
    "\n",
    "# # 'great gatsby' book from gutenberg.org\n",
    "# url = 'https://www.gutenberg.org/files/64317/64317-0.txt'\n",
    "\n",
    "# load .txt to our notebook\n",
    "response = requests.get(url)\n",
    "ori_text = response.text\n",
    "\n",
    "# print(ori_text)\n"
   ],
   "outputs": [],
   "metadata": {}
  },
  {
   "cell_type": "markdown",
   "source": [
    "# Scrub\n",
    "\n",
    "- remove punctuations & set all to lowecase\n",
    "- tokenize words\n",
    "- remove stopwords"
   ],
   "metadata": {}
  },
  {
   "cell_type": "code",
   "execution_count": 8,
   "source": [
    "# list of punctuations u want to remove\n",
    "text = ori_text\n",
    "punc = '''\\n!()-[]{};:'\"\\, <>./?@#$%^&*_~\\râ\\x80\\x9d\\x9c\\x99\\x94'''\n",
    "\n",
    "# remove punctuation by looping thru each character in the text, and replace punc with space ' '\n",
    "for char in text:\n",
    "    if char in punc:\n",
    "        text = text.replace(char, ' ')\n",
    "\n",
    "# set all to lowercase\n",
    "text = text.lower()\n",
    "\n",
    "print(text)"
   ],
   "outputs": [
    {
     "output_type": "stream",
     "name": "stdout",
     "text": [
      "singapore  grab holdings  the largest ride hailing and food delivery firm in southeast asia  clinched a merger on tuesday with special purpose acquisition company altimeter growth corp securing a valuation of nearly us 40 billion and paving the way for a coveted u s  listing   the merger  the biggest blank check company deal ever  underscores the frenzy on wall street as shell firms have raised  99 billion in the united states so far this year after a record  83 billion in 2020   as part of singapore based grab s agreement with the spac backed by altimeter capital  investors such as temasek holdings  blackrock  fidelity international  abu dhabi s mubadala and malaysia s permodalan nasional bhd will participate in a  4 billion private investment in public equity offering   funds managed by altimeter capital will lead the investment with  750 million    institutional investors looking for asian consumer internet exposure are keen to diversify their allocation beyond a handful of companies   said varun mittal  head of emerging markets fintech business at consultancy ey   grab said its decision to become a public company was driven by a strong financial performance last year   the transactions validate grab s co founder anthony tan s strategy of aggressively tapping growth in new sectors and ramping up market share by pumping billions of dollars to localise its services and invest in high growth economies   tan told reuters the funds will be used to double down on the last mile delivery network and to bulk up its financial services business  such as digital bank and mobile payments   the 39 year old launched grab as a taxi app in malaysia in june 2012 with fellow harvard business school alumni tan hooi ling  and then quickly took it regional   the deals for grab  which was valued at just over  16 billion last year  are a big win for its early backers such as softbank group corp and china s didi chuxing   reuters earlier reported that grab would announce the deal on tuesday   altimeter growth and grab will become fully owned subsidiaries of a new holding company  which is expected to be valued at  39 6 billion on an initial proforma equity basis    southeast asia is one of the fastest growing digital economies in the world  with a population approximately twice the size of the united states  yet online penetration for food delivery  on demand mobility and electronic transactions are a fraction of the u s  and china   said brad gerstner  founder and chief executive officer of silicon valley based altimeter   the transactions will provide grab with about  4 5 billion in cash proceeds   the deals  which have been approved by the boards of both grab and altimeter growth  are aimed to close by july    grab is now synonymous with southeast asia’s exciting growth story   said greg moon  managing partner at softbank investment advisers   grab attracted global attention in 2018 when it acquired uber s southeast asia business after a costly five year battle in return for a stake in itself   reuters reported in january that grab  which has so far raised about  12 billion  was exploring a u s  listing    for us  it was about depth  it is highly liquid  it is large with global names  global investors   tan said on why grab choose the u s  markets for a listing   grab s agreed transaction will surpass electric vehicle maker lucid motors   24 billion deal struck with a spac in february   battleground indonesia  with operations in eight countries and over 400 cities  grab is southeast asia s most valuable start up   leveraging its ride hailing business  it has moved into food and grocery deliveries  courier services  digital payments  and is now making a push into insurance and lending in a region of 650 million people   the listing will give grab extra firepower in its main market of indonesia  where local rival gojek is close to sealing a merger with the country s leading e commerce business  tokopedia   grab is also facing more competition from cash rich  u s  listed sea  both grab and sea won digital bank licences in singapore last year   grab  whose net revenue surged 70  last year  has yet to turn profitable  the food delivery segment became its biggest business as more consumers shift to online food delivery after the pandemic   grab reported adjusted net revenue of  1 6 billion in 2020 and forecasts this to rise to  4 5 billion in 2023  it expects to turn positive on an earnings before interest  taxes  depreciation  and amortization basis in 2023   evercore was the lead financial advisor to grab on the deal and jpmorgan and morgan stanley were co advisors    reuters\n"
     ]
    }
   ],
   "metadata": {}
  },
  {
   "cell_type": "code",
   "execution_count": 3,
   "source": [
    "# tokenize word (split whole sentence to each letter) by space ' '\n",
    "\n",
    "tokens = text.split(' ')\n",
    "print(tokens)"
   ],
   "outputs": [],
   "metadata": {}
  },
  {
   "cell_type": "code",
   "execution_count": 4,
   "source": [
    "# bring in pre-made list of stopwords\n",
    "sw_url = 'https://raw.githubusercontent.com/dwihdyn/ds-exploration/main/p3/stopwords-nlp.txt'\n",
    "response = requests.get(sw_url)\n",
    "stopwords = response.text.splitlines()\n",
    "\n",
    "# remove stopwords using loop\n",
    "tokens = [t for t in tokens if t not in stopwords and len(t) > 0]\n",
    "\n",
    "# print(token)\n"
   ],
   "outputs": [],
   "metadata": {}
  },
  {
   "cell_type": "markdown",
   "source": [
    "# Explore\n",
    "\n",
    "- get top50 most common letter in the article\n",
    "- sentiment analysis on each sentence in the paragraph"
   ],
   "metadata": {}
  },
  {
   "cell_type": "code",
   "execution_count": 5,
   "source": [
    "from collections import Counter\n",
    "\n",
    "# get top50 most common letter in the article\n",
    "print(Counter(tokens).most_common(50))\n",
    "\n"
   ],
   "outputs": [
    {
     "output_type": "stream",
     "name": "stdout",
     "text": [
      "[('the', 29), ('and', 23), ('in', 23), ('grab', 22), ('a', 21), ('of', 15), ('s', 15), ('to', 14), ('with', 11), ('billion', 11), ('on', 9), ('is', 9), ('for', 8), ('as', 7), ('year', 7), ('will', 7), ('business', 7), ('its', 7), ('it', 7), ('altimeter', 6), ('growth', 6), ('by', 6), ('food', 5), ('delivery', 5), ('southeast', 5), ('u', 5), ('said', 5), ('was', 5), ('last', 5), ('asia', 4), ('company', 4), ('listing', 4), ('deal', 4), ('are', 4), ('at', 4), ('tan', 4), ('reuters', 4), ('digital', 4), ('which', 4), ('singapore', 3), ('merger', 3), ('after', 3), ('investors', 3), ('such', 3), ('4', 3), ('investment', 3), ('financial', 3), ('transactions', 3), ('up', 3), ('services', 3)]\n"
     ]
    }
   ],
   "metadata": {}
  },
  {
   "cell_type": "markdown",
   "source": [
    "### d22 continue here"
   ],
   "metadata": {}
  },
  {
   "cell_type": "code",
   "execution_count": 6,
   "source": [
    "# separate long paragraph into each sentences (total 28)\n",
    "sentences = list(filter(lambda x : x != '', ori_text.split('\\n\\n')))\n",
    "\n",
    "print(sentences[10])\n",
    "print(sentences[23])"
   ],
   "outputs": [
    {
     "output_type": "stream",
     "name": "stdout",
     "text": [
      "Reuters earlier reported that Grab would announce the deal on Tuesday.\n",
      "The listing will give Grab extra firepower in its main market of Indonesia, where local rival Gojek is close to sealing a merger with the country's leading e-commerce business, Tokopedia.\n"
     ]
    }
   ],
   "metadata": {}
  },
  {
   "cell_type": "code",
   "execution_count": 7,
   "source": [
    "# load packages\n",
    "import nltk\n",
    "from nltk.sentiment.vader import SentimentIntensityAnalyzer\n",
    "nltk.download('vader_lexicon')"
   ],
   "outputs": [],
   "metadata": {}
  },
  {
   "cell_type": "code",
   "execution_count": null,
   "source": [
    "# get sentiment score of each sentences using NLTK\n",
    "analyzer = SentimentIntensityAnalyzer()\n",
    "\n",
    "sentiment_score = []\n",
    "\n",
    "for i in sentences:\n",
    "    final_score = analyzer.polarity_scores(i)\n",
    "    sentiment_score.append(final_score.get('compound'))"
   ],
   "outputs": [],
   "metadata": {}
  },
  {
   "cell_type": "code",
   "execution_count": null,
   "source": [
    "sentiment_score"
   ],
   "outputs": [
    {
     "output_type": "execute_result",
     "data": {
      "text/plain": [
       "[0.5994,\n",
       " 0.128,\n",
       " 0.5106,\n",
       " 0.0,\n",
       " 0.3612,\n",
       " 0.5106,\n",
       " 0.6124,\n",
       " 0.0,\n",
       " 0.128,\n",
       " 0.7717,\n",
       " 0.0,\n",
       " 0.6705,\n",
       " 0.5423,\n",
       " 0.0,\n",
       " 0.6597,\n",
       " 0.7003,\n",
       " -0.0516,\n",
       " 0.0,\n",
       " 0.0,\n",
       " 0.0258,\n",
       " -0.4019,\n",
       " 0.5256,\n",
       " 0.0,\n",
       " 0.0,\n",
       " 0.5719,\n",
       " 0.4404,\n",
       " 0.802,\n",
       " 0.0]"
      ]
     },
     "metadata": {},
     "execution_count": 9
    }
   ],
   "metadata": {}
  },
  {
   "cell_type": "code",
   "execution_count": null,
   "source": [
    "print(sentences[16])\n",
    "print(sentiment_score[16])\n",
    "print('-----')\n",
    "print(sentences[20])\n",
    "print(sentiment_score[20])\n",
    "print('-----')\n",
    "print('Battle is a negative word, dont fight guys')"
   ],
   "outputs": [
    {
     "output_type": "stream",
     "name": "stdout",
     "text": [
      "Grab attracted global attention in 2018 when it acquired Uber's Southeast Asia business after a costly five-year battle in return for a stake in itself.\n",
      "-0.0516\n",
      "-----\n",
      "BATTLEGROUND INDONESIA\n",
      "-0.4019\n",
      "-----\n",
      "Battle is a negative word, dont fight guys\n"
     ]
    }
   ],
   "metadata": {}
  },
  {
   "cell_type": "markdown",
   "source": [
    "# Model"
   ],
   "metadata": {}
  },
  {
   "cell_type": "markdown",
   "source": [
    "# iNterpret"
   ],
   "metadata": {}
  },
  {
   "cell_type": "markdown",
   "source": [],
   "metadata": {}
  }
 ],
 "metadata": {
  "orig_nbformat": 4,
  "language_info": {
   "name": "python",
   "version": "3.8.10",
   "mimetype": "text/x-python",
   "codemirror_mode": {
    "name": "ipython",
    "version": 3
   },
   "pygments_lexer": "ipython3",
   "nbconvert_exporter": "python",
   "file_extension": ".py"
  },
  "kernelspec": {
   "name": "python3",
   "display_name": "Python 3.8.10 64-bit ('quantra38': conda)"
  },
  "interpreter": {
   "hash": "ba02ef682c4040d20aeff24505da2d61e29df5e4d95d58036fbb82853e11aae6"
  }
 },
 "nbformat": 4,
 "nbformat_minor": 2
}