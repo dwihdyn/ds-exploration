{
 "cells": [
  {
   "cell_type": "markdown",
   "source": [
    "# Basic Search Engine from Netflix dataset"
   ],
   "metadata": {}
  },
  {
   "cell_type": "markdown",
   "source": [
    "# Obtain"
   ],
   "metadata": {}
  },
  {
   "cell_type": "code",
   "execution_count": 13,
   "source": [
    "import pandas as pd\n",
    "\n",
    "df = pd.read_csv('https://raw.githubusercontent.com/dwihdyn/ds-exploration/main/p3/data/netflix-titles.txt')\n",
    "df.sample(3)\n"
   ],
   "outputs": [
    {
     "output_type": "execute_result",
     "data": {
      "text/plain": [
       "     show_id  ...                                        description\n",
       "5302   s5303  ...  Sparks fly when a newspaper columnist writes a...\n",
       "6261   s6262  ...  A loser in charge of planning his high school ...\n",
       "5543   s5544  ...  A weekend of beach-house debauchery turns into...\n",
       "\n",
       "[3 rows x 12 columns]"
      ],
      "text/html": [
       "<div>\n",
       "<style scoped>\n",
       "    .dataframe tbody tr th:only-of-type {\n",
       "        vertical-align: middle;\n",
       "    }\n",
       "\n",
       "    .dataframe tbody tr th {\n",
       "        vertical-align: top;\n",
       "    }\n",
       "\n",
       "    .dataframe thead th {\n",
       "        text-align: right;\n",
       "    }\n",
       "</style>\n",
       "<table border=\"1\" class=\"dataframe\">\n",
       "  <thead>\n",
       "    <tr style=\"text-align: right;\">\n",
       "      <th></th>\n",
       "      <th>show_id</th>\n",
       "      <th>type</th>\n",
       "      <th>title</th>\n",
       "      <th>director</th>\n",
       "      <th>cast</th>\n",
       "      <th>country</th>\n",
       "      <th>date_added</th>\n",
       "      <th>release_year</th>\n",
       "      <th>rating</th>\n",
       "      <th>duration</th>\n",
       "      <th>listed_in</th>\n",
       "      <th>description</th>\n",
       "    </tr>\n",
       "  </thead>\n",
       "  <tbody>\n",
       "    <tr>\n",
       "      <th>5302</th>\n",
       "      <td>s5303</td>\n",
       "      <td>Movie</td>\n",
       "      <td>Runaway Bride</td>\n",
       "      <td>Garry Marshall</td>\n",
       "      <td>Julia Roberts, Richard Gere, Joan Cusack, Hect...</td>\n",
       "      <td>United States</td>\n",
       "      <td>December 1, 2020</td>\n",
       "      <td>1999</td>\n",
       "      <td>PG</td>\n",
       "      <td>116 min</td>\n",
       "      <td>Comedies, Romantic Movies</td>\n",
       "      <td>Sparks fly when a newspaper columnist writes a...</td>\n",
       "    </tr>\n",
       "    <tr>\n",
       "      <th>6261</th>\n",
       "      <td>s6262</td>\n",
       "      <td>Movie</td>\n",
       "      <td>The D Train</td>\n",
       "      <td>Jarrad Paul, Andrew Mogel</td>\n",
       "      <td>Jack Black, James Marsden, Kathryn Hahn, Jeffr...</td>\n",
       "      <td>United Kingdom, United States</td>\n",
       "      <td>April 2, 2017</td>\n",
       "      <td>2015</td>\n",
       "      <td>R</td>\n",
       "      <td>101 min</td>\n",
       "      <td>Comedies</td>\n",
       "      <td>A loser in charge of planning his high school ...</td>\n",
       "    </tr>\n",
       "    <tr>\n",
       "      <th>5543</th>\n",
       "      <td>s5544</td>\n",
       "      <td>Movie</td>\n",
       "      <td>Shark Night</td>\n",
       "      <td>David R. Ellis</td>\n",
       "      <td>Sara Paxton, Dustin Milligan, Chris Carmack, K...</td>\n",
       "      <td>United States</td>\n",
       "      <td>November 2, 2019</td>\n",
       "      <td>2011</td>\n",
       "      <td>PG-13</td>\n",
       "      <td>91 min</td>\n",
       "      <td>Horror Movies</td>\n",
       "      <td>A weekend of beach-house debauchery turns into...</td>\n",
       "    </tr>\n",
       "  </tbody>\n",
       "</table>\n",
       "</div>"
      ]
     },
     "metadata": {},
     "execution_count": 13
    }
   ],
   "metadata": {}
  },
  {
   "cell_type": "markdown",
   "source": [
    "# Scrub\n",
    "\n",
    "- skipped as data is assumed clean"
   ],
   "metadata": {}
  },
  {
   "cell_type": "markdown",
   "source": [
    "# Explore\n",
    "\n",
    "- skipped as our focus here is to create search engine"
   ],
   "metadata": {}
  },
  {
   "cell_type": "markdown",
   "source": [
    "# Model\n",
    "\n",
    "- How this search engine works :\n",
    "    - since we want to match the closest input (query) to the movie description, \n",
    "    - calculate IDF (inverse document frequency) = log(N/df) of the movie description AND keyword being typed into the search engine input (query)\n",
    "        - N : number of documents\n",
    "        - tf : frequency of the particular term/word/sentence/document\n",
    "        - log because in real life, we will face millions of N and df, hence we log it to normalise it & make the process less computationally expensive\n",
    "    - check which description IDF vector is the closest with the input\n",
    "\n",
    "- we calculate IDF by input the movie description to the 'TfidfVectorizer' model to be trained. and once trained, we put in the query\n",
    "\n",
    "- will return vector of movie description that is closest with the query input.\n",
    "\n",
    "- vector : pair of number that show location in the 2D plane"
   ],
   "metadata": {}
  },
  {
   "cell_type": "code",
   "execution_count": 14,
   "source": [
    "from sklearn.feature_extraction.text import TfidfVectorizer\n",
    "\n",
    "# scrub the data from any english stopwords\n",
    "tfidf = TfidfVectorizer(stop_words='english')\n",
    "\n",
    "# train TfidfVectorizer using movie description\n",
    "feature = tfidf.fit_transform(df['description'])"
   ],
   "outputs": [],
   "metadata": {}
  },
  {
   "cell_type": "code",
   "execution_count": 15,
   "source": [
    "# insert the keyword that we want to search\n",
    "query = \"action\"\n",
    "\n",
    "# transform input into vector that shall be compared which the closest to the movie description\n",
    "query_feature = tfidf.transform([query])"
   ],
   "outputs": [],
   "metadata": {}
  },
  {
   "cell_type": "code",
   "execution_count": 16,
   "source": [
    "from sklearn.metrics.pairwise import cosine_similarity\n",
    "\n",
    "# compare query input to movie descriotion using cosine_similarity method\n",
    "cosims = cosine_similarity(query_feature, feature).flatten()\n",
    "\n",
    "# get the vector top5 closest to the query\n",
    "results = cosims.argsort()[-6 : -1]\n",
    "print(results)"
   ],
   "outputs": [
    {
     "output_type": "stream",
     "name": "stdout",
     "text": [
      "[ 167 5673 1685 3110 6590]\n"
     ]
    }
   ],
   "metadata": {}
  },
  {
   "cell_type": "markdown",
   "source": [
    "# iNterpret"
   ],
   "metadata": {}
  },
  {
   "cell_type": "code",
   "execution_count": 17,
   "source": [
    "# show search result : what movies & its description was it that closest with the query ?\n",
    "\n",
    "for i in results:\n",
    "    print(df.iloc[i]['title'])\n",
    "    print(df.iloc[i]['description'])\n",
    "    print('------')\n"
   ],
   "outputs": [
    {
     "output_type": "stream",
     "name": "stdout",
     "text": [
      "A Fairly Odd Summer\n",
      "In this live-action adventure, the gang heads to Hawaii, where Timmy learns the source of all fairy magic is in dangerous hands.\n",
      "------\n",
      "Small Soldiers\n",
      "When the Commando Elite, a group of toy action figures, are released before they've been tested, they attack the children playing with them.\n",
      "------\n",
      "Defiance\n",
      "In this action-packed drama based on an extraordinary true story, four brothers protect more than 1,000 Jewish refugees during World War II.\n",
      "------\n",
      "Jagga Jasoos\n",
      "An eccentric, self-proclaimed detective goes on an action-packed hunt for his missing father, with an awkward but adventurous journalist by his side.\n",
      "------\n",
      "The Liar\n",
      "At the CARE detective agency, investigators see a lot of action but must always keep their cases secret, even when it affects their personal lives.\n",
      "------\n"
     ]
    }
   ],
   "metadata": {}
  },
  {
   "cell_type": "code",
   "execution_count": 18,
   "source": [
    "def search_engine(query, df):\n",
    "    '''Input search query & movie database, output top5 most relevant movies as per search query towards movie descriptions'''\n",
    "\n",
    "    # scrub the data from any english stopwords\n",
    "    tfidf = TfidfVectorizer(stop_words='english')\n",
    "\n",
    "    # train TfidfVectorizer using movie description\n",
    "    feature = tfidf.fit_transform(df['description'])\n",
    "\n",
    "    # insert the keyword that we want to search\n",
    "    query = query\n",
    "\n",
    "    # transform input into vector that shall be compared which the closest to the movie description\n",
    "    query_feature = tfidf.transform([query])\n",
    "\n",
    "    # compare query input to movie descriotion using cosine_similarity method\n",
    "    cosims = cosine_similarity(query_feature, feature).flatten()\n",
    "\n",
    "    # get the vector top5 closest to the query\n",
    "    results = cosims.argsort()[-6 : -1]\n",
    "        \n",
    "    # show search result\n",
    "    for i in results:\n",
    "        print(df.iloc[i]['title'])\n",
    "        print(df.iloc[i]['description'])\n",
    "        print('------')"
   ],
   "outputs": [],
   "metadata": {}
  },
  {
   "cell_type": "code",
   "execution_count": 20,
   "source": [
    "search_engine(\"romance\", df)"
   ],
   "outputs": [
    {
     "output_type": "stream",
     "name": "stdout",
     "text": [
      "Last Ferry\n",
      "Seeking romance and friendship, a young gay lawyer travels to Fire Island in the off-season and is soon on the run after witnessing a murder.\n",
      "------\n",
      "Maya Memsaab\n",
      "A beautiful, wealthy woman’s insatiable appetite for romance leads to tragedy and a police investigation.\n",
      "------\n",
      "World Famous Lover\n",
      "When his frustrated girlfriend decides to leave him, a struggling writer gets down to work on stories of romance he hopes will win her back.\n",
      "------\n",
      "Single Ladies Senior\n",
      "Four best friends and spirited career women navigate the treacherous world of romance – even as it stands in the way of work and friendship.\n",
      "------\n",
      "A Mission in an Old Movie\n",
      "A young man struggles with his overbearing mother while looking for romance and a way to kick-start his show business career.\n",
      "------\n"
     ]
    }
   ],
   "metadata": {}
  },
  {
   "cell_type": "code",
   "execution_count": 22,
   "source": [
    "search_engine(\"horror\", df)"
   ],
   "outputs": [
    {
     "output_type": "stream",
     "name": "stdout",
     "text": [
      "Goedam\n",
      "When night falls on the city, shadows and spirits come alive in this horror anthology series centered on urban legends.\n",
      "------\n",
      "My Honor Was Loyalty\n",
      "Amid the chaos and horror of World War II, a committed German soldier fights a private battle with his own conscience.\n",
      "------\n",
      "Fear Files... Har Mod Pe Darr\n",
      "Possessed lovers, witches, haunted houses and more bring tales of horror to the screen in this anthology series.\n",
      "------\n",
      "Haunters: The Art of the Scare\n",
      "This documentary takes us into the world of those who create horror simulations for willing audiences, and examines the culture they have spawned.\n",
      "------\n",
      "Darna Mana Hai\n",
      "Stranded in a jungle when their car breaks down, six friends pass their time exchanging horror stories, unaware that they may be part of one themselves.\n",
      "------\n"
     ]
    }
   ],
   "metadata": {}
  },
  {
   "cell_type": "code",
   "execution_count": 23,
   "source": [
    "search_engine(\"comedy\", df)"
   ],
   "outputs": [
    {
     "output_type": "stream",
     "name": "stdout",
     "text": [
      "Internet Famous\n",
      "Five viral Internet celebrities travel to a competition that will award one of them their own television series in this ensemble comedy.\n",
      "------\n",
      "Santo Cachón\n",
      "A man whose wife is repeatedly cheating on him turns to his friends for support in this wacky comedy.\n",
      "------\n",
      "Middleditch & Schwartz\n",
      "Comedy duo Thomas Middleditch and Ben Schwartz turn small ideas into epically funny stories in this series of completely improvised comedy specials.\n",
      "------\n",
      "Ray Romano: Right Here, Around the Corner\n",
      "Ray Romano cut his stand-up teeth at the Comedy Cellar in New York. Now, in his first comedy special in 23 years, he returns to where it all began.\n",
      "------\n",
      "Monty Python: Before the Flying Circus\n",
      "Discover how six seemingly ordinary but supremely talented men became Monty Python, sketch comedy's revolutionary comedy troupe.\n",
      "------\n"
     ]
    }
   ],
   "metadata": {}
  },
  {
   "cell_type": "code",
   "execution_count": 25,
   "source": [
    "search_engine(\"gruesome\", df)"
   ],
   "outputs": [
    {
     "output_type": "stream",
     "name": "stdout",
     "text": [
      "Hamid\n",
      "Wanting his missing father to come home, a Kashmiri boy repeatedly attempts to call God for help – until one day, a hardened army officer picks up.\n",
      "------\n",
      "Hamburger Hill\n",
      "The Vietnam War's horrors come brutally to life through the eyes of American soldiers trying to take a heavily fortified hill under Vietcong control.\n",
      "------\n",
      "Bloodride\n",
      "The doomed passengers aboard a spectral bus head toward a gruesome, unknown destination in this deliciously macabre horror anthology series.\n",
      "------\n",
      "Don't F**k with Cats: Hunting an Internet Killer\n",
      "A twisted criminal's gruesome videos drive a group of amateur online sleuths to launch a risky manhunt that pulls them into a dark underworld.\n",
      "------\n",
      "Fallet\n",
      "A Swedish detective and her timid British colleague's attempt to solve a gruesome murder case nets mixed results and miscommunication.\n",
      "------\n"
     ]
    }
   ],
   "metadata": {}
  },
  {
   "cell_type": "markdown",
   "source": [
    "1) Action : 3/5 \n",
    "\n",
    "2) Romance : 5/5 (best)\n",
    "\n",
    "3) Horror : 4/5\n",
    "\n",
    "4) Comedy : 2/5 (worst)\n",
    "\n",
    "5) Dark : 3/5"
   ],
   "metadata": {}
  }
 ],
 "metadata": {
  "orig_nbformat": 4,
  "language_info": {
   "name": "python",
   "version": "3.8.10",
   "mimetype": "text/x-python",
   "codemirror_mode": {
    "name": "ipython",
    "version": 3
   },
   "pygments_lexer": "ipython3",
   "nbconvert_exporter": "python",
   "file_extension": ".py"
  },
  "kernelspec": {
   "name": "python3",
   "display_name": "Python 3.8.10 64-bit ('quantra38': conda)"
  },
  "interpreter": {
   "hash": "ba02ef682c4040d20aeff24505da2d61e29df5e4d95d58036fbb82853e11aae6"
  }
 },
 "nbformat": 4,
 "nbformat_minor": 2
}