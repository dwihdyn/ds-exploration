{
 "cells": [
  {
   "cell_type": "markdown",
   "source": [
    "# Basic Text Analysis\n",
    "\n",
    "1) grab SPAC\n",
    "2) 'great gatsby' book from gutenberg.org\n",
    "\n",
    "3) PDF article using https://www.geeksforgeeks.org/extract-text-from-pdf-file-using-python/\n",
    "4) online article using beautifulsoup"
   ],
   "metadata": {}
  },
  {
   "cell_type": "markdown",
   "source": [
    "# Obtain"
   ],
   "metadata": {}
  },
  {
   "cell_type": "code",
   "execution_count": 2,
   "source": [
    "import requests\n",
    "\n",
    "# grab SPAC\n",
    "url = 'https://raw.githubusercontent.com/theleadio/datascience_demo/master/grab-spac.txt'\n",
    "\n",
    "# # 'great gatsby' book from gutenberg.org\n",
    "# url = 'https://www.gutenberg.org/files/64317/64317-0.txt'\n",
    "\n",
    "# load .txt to our notebook\n",
    "response = requests.get(url)\n",
    "text = response.text\n",
    "\n",
    "print(text)"
   ],
   "outputs": [
    {
     "output_type": "stream",
     "name": "stdout",
     "text": [
      "SINGAPORE: Grab Holdings, the largest ride-hailing and food delivery firm in Southeast Asia, clinched a merger on Tuesday with special-purpose acquisition company Altimeter Growth Corp securing a valuation of nearly US$40 billion and paving the way for a coveted U.S. listing.\n",
      "\n",
      "The merger, the biggest blank-check company deal ever, underscores the frenzy on Wall Street as shell firms have raised $99 billion in the United States so far this year after a record $83 billion in 2020.\n",
      "\n",
      "As part of Singapore-based Grab's agreement with the SPAC backed by Altimeter Capital, investors such as Temasek Holdings, BlackRock, Fidelity International, Abu Dhabi's Mubadala and Malaysia's Permodalan Nasional Bhd will participate in a $4 billion private investment in public equity offering.\n",
      "\n",
      "Funds managed by Altimeter Capital will lead the investment with $750 million.\n",
      "\n",
      "\"Institutional investors looking for Asian consumer internet exposure are keen to diversify their allocation beyond a handful of companies,\" said Varun Mittal, head of emerging markets fintech business at consultancy EY.\n",
      "\n",
      "Grab said its decision to become a public company was driven by a strong financial performance last year.\n",
      "\n",
      "The transactions validate Grab's co-founder Anthony Tan's strategy of aggressively tapping growth in new sectors and ramping up market share by pumping billions of dollars to localise its services and invest in high-growth economies.\n",
      "\n",
      "Tan told Reuters the funds will be used to double down on the last-mile delivery network and to bulk up its financial services business, such as digital bank and mobile payments.\n",
      "\n",
      "The 39-year-old launched Grab as a taxi app in Malaysia in June 2012 with fellow Harvard Business School alumni Tan Hooi Ling, and then quickly took it regional.\n",
      "\n",
      "The deals for Grab, which was valued at just over $16 billion last year, are a big win for its early backers such as SoftBank Group Corp and China's Didi Chuxing.\n",
      "\n",
      "Reuters earlier reported that Grab would announce the deal on Tuesday.\n",
      "\n",
      "Altimeter Growth and Grab will become fully-owned subsidiaries of a new holding company, which is expected to be valued at $39.6 billion on an initial proforma equity basis.\n",
      "\n",
      "\"Southeast Asia is one of the fastest growing digital economies in the world, with a population approximately twice the size of the United States. Yet online penetration for food delivery, on-demand mobility and electronic transactions are a fraction of the U.S. and China,\" said Brad Gerstner, founder and chief executive officer of Silicon Valley-based Altimeter.\n",
      "\n",
      "The transactions will provide Grab with about $4.5 billion in cash proceeds.\n",
      "\n",
      "The deals, which have been approved by the boards of both Grab and Altimeter Growth, are aimed to close by July.\n",
      "\n",
      "\"Grab is now synonymous with Southeast Asia’s exciting growth story,\" said Greg Moon, managing partner at SoftBank Investment Advisers.\n",
      "\n",
      "Grab attracted global attention in 2018 when it acquired Uber's Southeast Asia business after a costly five-year battle in return for a stake in itself.\n",
      "\n",
      "Reuters reported in January that Grab, which has so far raised about $12 billion, was exploring a U.S. listing.\n",
      "\n",
      "\"For us, it was about depth, it is highly liquid, it is large with global names, global investors,\" Tan said on why Grab choose the U.S. markets for a listing.\n",
      "\n",
      "Grab's agreed transaction will surpass electric vehicle maker Lucid Motors' $24 billion deal struck with a SPAC in February.\n",
      "\n",
      "BATTLEGROUND INDONESIA\n",
      "\n",
      "With operations in eight countries and over 400 cities, Grab is Southeast Asia's most valuable start-up.\n",
      "\n",
      "Leveraging its ride-hailing business, it has moved into food and grocery deliveries, courier services, digital payments, and is now making a push into insurance and lending in a region of 650 million people.\n",
      "\n",
      "The listing will give Grab extra firepower in its main market of Indonesia, where local rival Gojek is close to sealing a merger with the country's leading e-commerce business, Tokopedia.\n",
      "\n",
      "Grab is also facing more competition from cash-rich, U.S.-listed Sea. Both Grab and Sea won digital bank licences in Singapore last year.\n",
      "\n",
      "Grab, whose net revenue surged 70% last year, has yet to turn profitable. The food delivery segment became its biggest business as more consumers shift to online food delivery after the pandemic.\n",
      "\n",
      "Grab reported adjusted net revenue of $1.6 billion in 2020 and forecasts this to rise to $4.5 billion in 2023. It expects to turn positive on an earnings before interest, taxes, depreciation, and amortization basis in 2023.\n",
      "\n",
      "Evercore was the lead financial advisor to Grab on the deal and JPMorgan and Morgan Stanley were co-advisors. - Reuters\n"
     ]
    }
   ],
   "metadata": {}
  },
  {
   "cell_type": "markdown",
   "source": [
    "# Scrub\n",
    "\n",
    "- remove punctuations & set all to lowecase\n",
    "- tokenize words\n",
    "- remove stopwords"
   ],
   "metadata": {}
  },
  {
   "cell_type": "code",
   "execution_count": 3,
   "source": [
    "# list of punctuations u want to remove\n",
    "punc = '''\\n!()-[]{};:'\"\\, <>./?@#$%^&*_~'''\n",
    "\n",
    "# remove punctuation by looping thru each character in the text, and replace punc with space ' '\n",
    "for char in text:\n",
    "    if char in punc:\n",
    "        text = text.replace(char, ' ')\n",
    "\n",
    "# set all to lowercase\n",
    "text = text.lower()\n",
    "\n",
    "print(text)"
   ],
   "outputs": [
    {
     "output_type": "stream",
     "name": "stdout",
     "text": [
      "singapore  grab holdings  the largest ride hailing and food delivery firm in southeast asia  clinched a merger on tuesday with special purpose acquisition company altimeter growth corp securing a valuation of nearly us 40 billion and paving the way for a coveted u s  listing   the merger  the biggest blank check company deal ever  underscores the frenzy on wall street as shell firms have raised  99 billion in the united states so far this year after a record  83 billion in 2020   as part of singapore based grab s agreement with the spac backed by altimeter capital  investors such as temasek holdings  blackrock  fidelity international  abu dhabi s mubadala and malaysia s permodalan nasional bhd will participate in a  4 billion private investment in public equity offering   funds managed by altimeter capital will lead the investment with  750 million    institutional investors looking for asian consumer internet exposure are keen to diversify their allocation beyond a handful of companies   said varun mittal  head of emerging markets fintech business at consultancy ey   grab said its decision to become a public company was driven by a strong financial performance last year   the transactions validate grab s co founder anthony tan s strategy of aggressively tapping growth in new sectors and ramping up market share by pumping billions of dollars to localise its services and invest in high growth economies   tan told reuters the funds will be used to double down on the last mile delivery network and to bulk up its financial services business  such as digital bank and mobile payments   the 39 year old launched grab as a taxi app in malaysia in june 2012 with fellow harvard business school alumni tan hooi ling  and then quickly took it regional   the deals for grab  which was valued at just over  16 billion last year  are a big win for its early backers such as softbank group corp and china s didi chuxing   reuters earlier reported that grab would announce the deal on tuesday   altimeter growth and grab will become fully owned subsidiaries of a new holding company  which is expected to be valued at  39 6 billion on an initial proforma equity basis    southeast asia is one of the fastest growing digital economies in the world  with a population approximately twice the size of the united states  yet online penetration for food delivery  on demand mobility and electronic transactions are a fraction of the u s  and china   said brad gerstner  founder and chief executive officer of silicon valley based altimeter   the transactions will provide grab with about  4 5 billion in cash proceeds   the deals  which have been approved by the boards of both grab and altimeter growth  are aimed to close by july    grab is now synonymous with southeast asia’s exciting growth story   said greg moon  managing partner at softbank investment advisers   grab attracted global attention in 2018 when it acquired uber s southeast asia business after a costly five year battle in return for a stake in itself   reuters reported in january that grab  which has so far raised about  12 billion  was exploring a u s  listing    for us  it was about depth  it is highly liquid  it is large with global names  global investors   tan said on why grab choose the u s  markets for a listing   grab s agreed transaction will surpass electric vehicle maker lucid motors   24 billion deal struck with a spac in february   battleground indonesia  with operations in eight countries and over 400 cities  grab is southeast asia s most valuable start up   leveraging its ride hailing business  it has moved into food and grocery deliveries  courier services  digital payments  and is now making a push into insurance and lending in a region of 650 million people   the listing will give grab extra firepower in its main market of indonesia  where local rival gojek is close to sealing a merger with the country s leading e commerce business  tokopedia   grab is also facing more competition from cash rich  u s  listed sea  both grab and sea won digital bank licences in singapore last year   grab  whose net revenue surged 70  last year  has yet to turn profitable  the food delivery segment became its biggest business as more consumers shift to online food delivery after the pandemic   grab reported adjusted net revenue of  1 6 billion in 2020 and forecasts this to rise to  4 5 billion in 2023  it expects to turn positive on an earnings before interest  taxes  depreciation  and amortization basis in 2023   evercore was the lead financial advisor to grab on the deal and jpmorgan and morgan stanley were co advisors    reuters\n"
     ]
    }
   ],
   "metadata": {}
  },
  {
   "cell_type": "code",
   "execution_count": 4,
   "source": [
    "# tokenize word (split whole sentence to each letter) by space ' '\n",
    "\n",
    "tokens = text.split(' ')\n",
    "print(tokens)"
   ],
   "outputs": [
    {
     "output_type": "stream",
     "name": "stdout",
     "text": [
      "['singapore', '', 'grab', 'holdings', '', 'the', 'largest', 'ride', 'hailing', 'and', 'food', 'delivery', 'firm', 'in', 'southeast', 'asia', '', 'clinched', 'a', 'merger', 'on', 'tuesday', 'with', 'special', 'purpose', 'acquisition', 'company', 'altimeter', 'growth', 'corp', 'securing', 'a', 'valuation', 'of', 'nearly', 'us', '40', 'billion', 'and', 'paving', 'the', 'way', 'for', 'a', 'coveted', 'u', 's', '', 'listing', '', '', 'the', 'merger', '', 'the', 'biggest', 'blank', 'check', 'company', 'deal', 'ever', '', 'underscores', 'the', 'frenzy', 'on', 'wall', 'street', 'as', 'shell', 'firms', 'have', 'raised', '', '99', 'billion', 'in', 'the', 'united', 'states', 'so', 'far', 'this', 'year', 'after', 'a', 'record', '', '83', 'billion', 'in', '2020', '', '', 'as', 'part', 'of', 'singapore', 'based', 'grab', 's', 'agreement', 'with', 'the', 'spac', 'backed', 'by', 'altimeter', 'capital', '', 'investors', 'such', 'as', 'temasek', 'holdings', '', 'blackrock', '', 'fidelity', 'international', '', 'abu', 'dhabi', 's', 'mubadala', 'and', 'malaysia', 's', 'permodalan', 'nasional', 'bhd', 'will', 'participate', 'in', 'a', '', '4', 'billion', 'private', 'investment', 'in', 'public', 'equity', 'offering', '', '', 'funds', 'managed', 'by', 'altimeter', 'capital', 'will', 'lead', 'the', 'investment', 'with', '', '750', 'million', '', '', '', 'institutional', 'investors', 'looking', 'for', 'asian', 'consumer', 'internet', 'exposure', 'are', 'keen', 'to', 'diversify', 'their', 'allocation', 'beyond', 'a', 'handful', 'of', 'companies', '', '', 'said', 'varun', 'mittal', '', 'head', 'of', 'emerging', 'markets', 'fintech', 'business', 'at', 'consultancy', 'ey', '', '', 'grab', 'said', 'its', 'decision', 'to', 'become', 'a', 'public', 'company', 'was', 'driven', 'by', 'a', 'strong', 'financial', 'performance', 'last', 'year', '', '', 'the', 'transactions', 'validate', 'grab', 's', 'co', 'founder', 'anthony', 'tan', 's', 'strategy', 'of', 'aggressively', 'tapping', 'growth', 'in', 'new', 'sectors', 'and', 'ramping', 'up', 'market', 'share', 'by', 'pumping', 'billions', 'of', 'dollars', 'to', 'localise', 'its', 'services', 'and', 'invest', 'in', 'high', 'growth', 'economies', '', '', 'tan', 'told', 'reuters', 'the', 'funds', 'will', 'be', 'used', 'to', 'double', 'down', 'on', 'the', 'last', 'mile', 'delivery', 'network', 'and', 'to', 'bulk', 'up', 'its', 'financial', 'services', 'business', '', 'such', 'as', 'digital', 'bank', 'and', 'mobile', 'payments', '', '', 'the', '39', 'year', 'old', 'launched', 'grab', 'as', 'a', 'taxi', 'app', 'in', 'malaysia', 'in', 'june', '2012', 'with', 'fellow', 'harvard', 'business', 'school', 'alumni', 'tan', 'hooi', 'ling', '', 'and', 'then', 'quickly', 'took', 'it', 'regional', '', '', 'the', 'deals', 'for', 'grab', '', 'which', 'was', 'valued', 'at', 'just', 'over', '', '16', 'billion', 'last', 'year', '', 'are', 'a', 'big', 'win', 'for', 'its', 'early', 'backers', 'such', 'as', 'softbank', 'group', 'corp', 'and', 'china', 's', 'didi', 'chuxing', '', '', 'reuters', 'earlier', 'reported', 'that', 'grab', 'would', 'announce', 'the', 'deal', 'on', 'tuesday', '', '', 'altimeter', 'growth', 'and', 'grab', 'will', 'become', 'fully', 'owned', 'subsidiaries', 'of', 'a', 'new', 'holding', 'company', '', 'which', 'is', 'expected', 'to', 'be', 'valued', 'at', '', '39', '6', 'billion', 'on', 'an', 'initial', 'proforma', 'equity', 'basis', '', '', '', 'southeast', 'asia', 'is', 'one', 'of', 'the', 'fastest', 'growing', 'digital', 'economies', 'in', 'the', 'world', '', 'with', 'a', 'population', 'approximately', 'twice', 'the', 'size', 'of', 'the', 'united', 'states', '', 'yet', 'online', 'penetration', 'for', 'food', 'delivery', '', 'on', 'demand', 'mobility', 'and', 'electronic', 'transactions', 'are', 'a', 'fraction', 'of', 'the', 'u', 's', '', 'and', 'china', '', '', 'said', 'brad', 'gerstner', '', 'founder', 'and', 'chief', 'executive', 'officer', 'of', 'silicon', 'valley', 'based', 'altimeter', '', '', 'the', 'transactions', 'will', 'provide', 'grab', 'with', 'about', '', '4', '5', 'billion', 'in', 'cash', 'proceeds', '', '', 'the', 'deals', '', 'which', 'have', 'been', 'approved', 'by', 'the', 'boards', 'of', 'both', 'grab', 'and', 'altimeter', 'growth', '', 'are', 'aimed', 'to', 'close', 'by', 'july', '', '', '', 'grab', 'is', 'now', 'synonymous', 'with', 'southeast', 'asia’s', 'exciting', 'growth', 'story', '', '', 'said', 'greg', 'moon', '', 'managing', 'partner', 'at', 'softbank', 'investment', 'advisers', '', '', 'grab', 'attracted', 'global', 'attention', 'in', '2018', 'when', 'it', 'acquired', 'uber', 's', 'southeast', 'asia', 'business', 'after', 'a', 'costly', 'five', 'year', 'battle', 'in', 'return', 'for', 'a', 'stake', 'in', 'itself', '', '', 'reuters', 'reported', 'in', 'january', 'that', 'grab', '', 'which', 'has', 'so', 'far', 'raised', 'about', '', '12', 'billion', '', 'was', 'exploring', 'a', 'u', 's', '', 'listing', '', '', '', 'for', 'us', '', 'it', 'was', 'about', 'depth', '', 'it', 'is', 'highly', 'liquid', '', 'it', 'is', 'large', 'with', 'global', 'names', '', 'global', 'investors', '', '', 'tan', 'said', 'on', 'why', 'grab', 'choose', 'the', 'u', 's', '', 'markets', 'for', 'a', 'listing', '', '', 'grab', 's', 'agreed', 'transaction', 'will', 'surpass', 'electric', 'vehicle', 'maker', 'lucid', 'motors', '', '', '24', 'billion', 'deal', 'struck', 'with', 'a', 'spac', 'in', 'february', '', '', 'battleground', 'indonesia', '', 'with', 'operations', 'in', 'eight', 'countries', 'and', 'over', '400', 'cities', '', 'grab', 'is', 'southeast', 'asia', 's', 'most', 'valuable', 'start', 'up', '', '', 'leveraging', 'its', 'ride', 'hailing', 'business', '', 'it', 'has', 'moved', 'into', 'food', 'and', 'grocery', 'deliveries', '', 'courier', 'services', '', 'digital', 'payments', '', 'and', 'is', 'now', 'making', 'a', 'push', 'into', 'insurance', 'and', 'lending', 'in', 'a', 'region', 'of', '650', 'million', 'people', '', '', 'the', 'listing', 'will', 'give', 'grab', 'extra', 'firepower', 'in', 'its', 'main', 'market', 'of', 'indonesia', '', 'where', 'local', 'rival', 'gojek', 'is', 'close', 'to', 'sealing', 'a', 'merger', 'with', 'the', 'country', 's', 'leading', 'e', 'commerce', 'business', '', 'tokopedia', '', '', 'grab', 'is', 'also', 'facing', 'more', 'competition', 'from', 'cash', 'rich', '', 'u', 's', '', 'listed', 'sea', '', 'both', 'grab', 'and', 'sea', 'won', 'digital', 'bank', 'licences', 'in', 'singapore', 'last', 'year', '', '', 'grab', '', 'whose', 'net', 'revenue', 'surged', '70', '', 'last', 'year', '', 'has', 'yet', 'to', 'turn', 'profitable', '', 'the', 'food', 'delivery', 'segment', 'became', 'its', 'biggest', 'business', 'as', 'more', 'consumers', 'shift', 'to', 'online', 'food', 'delivery', 'after', 'the', 'pandemic', '', '', 'grab', 'reported', 'adjusted', 'net', 'revenue', 'of', '', '1', '6', 'billion', 'in', '2020', 'and', 'forecasts', 'this', 'to', 'rise', 'to', '', '4', '5', 'billion', 'in', '2023', '', 'it', 'expects', 'to', 'turn', 'positive', 'on', 'an', 'earnings', 'before', 'interest', '', 'taxes', '', 'depreciation', '', 'and', 'amortization', 'basis', 'in', '2023', '', '', 'evercore', 'was', 'the', 'lead', 'financial', 'advisor', 'to', 'grab', 'on', 'the', 'deal', 'and', 'jpmorgan', 'and', 'morgan', 'stanley', 'were', 'co', 'advisors', '', '', '', 'reuters']\n"
     ]
    }
   ],
   "metadata": {}
  },
  {
   "cell_type": "code",
   "execution_count": 7,
   "source": [
    "# bring in pre-made list of stopwords\n",
    "sw_url = 'https://raw.githubusercontent.com/dwihdyn/ds-exploration/main/p3/stopwords-nlp.txt'\n",
    "response = requests.get(sw_url)\n",
    "stopwords = response.text.splitlines()\n",
    "\n",
    "# remove stopwords using loop\n",
    "tokens = [t for t in tokens if t not in stopwords and len(t) > 0]\n",
    "print(tokens)\n"
   ],
   "outputs": [
    {
     "output_type": "stream",
     "name": "stdout",
     "text": [
      "['singapore', 'grab', 'holdings', 'largest', 'ride', 'hailing', 'food', 'delivery', 'firm', 'southeast', 'asia', 'clinched', 'merger', 'tuesday', 'special', 'purpose', 'acquisition', 'company', 'altimeter', 'growth', 'corp', 'securing', 'valuation', '40', 'billion', 'paving', 'coveted', 'listing', 'merger', 'biggest', 'blank', 'check', 'company', 'deal', 'underscores', 'frenzy', 'wall', 'street', 'shell', 'firms', 'raised', '99', 'billion', 'united', 'record', '83', 'billion', '2020', 'singapore', 'based', 'grab', 'agreement', 'spac', 'altimeter', 'capital', 'investors', 'temasek', 'holdings', 'blackrock', 'fidelity', 'international', 'abu', 'dhabi', 'mubadala', 'malaysia', 'permodalan', 'nasional', 'bhd', 'participate', '4', 'billion', 'private', 'investment', 'public', 'equity', 'offering', 'funds', 'managed', 'altimeter', 'capital', 'lead', 'investment', '750', 'million', 'institutional', 'investors', 'asian', 'consumer', 'internet', 'exposure', 'keen', 'diversify', 'allocation', 'handful', 'companies', 'varun', 'mittal', 'head', 'emerging', 'markets', 'fintech', 'business', 'consultancy', 'ey', 'grab', 'decision', 'public', 'company', 'driven', 'strong', 'financial', 'performance', 'transactions', 'validate', 'grab', 'founder', 'anthony', 'tan', 'strategy', 'aggressively', 'tapping', 'growth', 'sectors', 'ramping', 'market', 'share', 'pumping', 'billions', 'dollars', 'localise', 'services', 'invest', 'growth', 'economies', 'tan', 'told', 'reuters', 'funds', 'double', 'mile', 'delivery', 'network', 'bulk', 'financial', 'services', 'business', 'digital', 'bank', 'mobile', 'payments', '39', 'launched', 'grab', 'taxi', 'app', 'malaysia', 'june', '2012', 'fellow', 'harvard', 'business', 'school', 'alumni', 'tan', 'hooi', 'ling', 'quickly', 'regional', 'deals', 'grab', 'valued', '16', 'billion', 'win', 'backers', 'softbank', 'corp', 'china', 'didi', 'chuxing', 'reuters', 'earlier', 'reported', 'grab', 'announce', 'deal', 'tuesday', 'altimeter', 'growth', 'grab', 'owned', 'subsidiaries', 'holding', 'company', 'expected', 'valued', '39', '6', 'billion', 'initial', 'proforma', 'equity', 'basis', 'southeast', 'asia', 'fastest', 'growing', 'digital', 'economies', 'world', 'population', 'approximately', 'size', 'united', 'online', 'penetration', 'food', 'delivery', 'demand', 'mobility', 'electronic', 'transactions', 'fraction', 'china', 'brad', 'gerstner', 'founder', 'chief', 'executive', 'officer', 'silicon', 'valley', 'based', 'altimeter', 'transactions', 'provide', 'grab', '4', '5', 'billion', 'cash', 'proceeds', 'deals', 'approved', 'boards', 'grab', 'altimeter', 'growth', 'aimed', 'close', 'july', 'grab', 'synonymous', 'southeast', 'asia’s', 'exciting', 'growth', 'story', 'greg', 'moon', 'managing', 'partner', 'softbank', 'investment', 'advisers', 'grab', 'attracted', 'global', 'attention', '2018', 'acquired', 'uber', 'southeast', 'asia', 'business', 'costly', 'battle', 'return', 'stake', 'reuters', 'reported', 'january', 'grab', 'raised', '12', 'billion', 'exploring', 'listing', 'depth', 'highly', 'liquid', 'global', 'names', 'global', 'investors', 'tan', 'grab', 'choose', 'markets', 'listing', 'grab', 'agreed', 'transaction', 'surpass', 'electric', 'vehicle', 'maker', 'lucid', 'motors', '24', 'billion', 'deal', 'struck', 'spac', 'february', 'battleground', 'indonesia', 'operations', 'countries', '400', 'cities', 'grab', 'southeast', 'asia', 'valuable', 'start', 'leveraging', 'ride', 'hailing', 'business', 'moved', 'food', 'grocery', 'deliveries', 'courier', 'services', 'digital', 'payments', 'push', 'insurance', 'lending', 'region', '650', 'million', 'people', 'listing', 'grab', 'extra', 'firepower', 'main', 'market', 'indonesia', 'local', 'rival', 'gojek', 'close', 'sealing', 'merger', 'country', 'leading', 'commerce', 'business', 'tokopedia', 'grab', 'facing', 'competition', 'cash', 'rich', 'listed', 'sea', 'grab', 'sea', 'won', 'digital', 'bank', 'licences', 'singapore', 'grab', 'net', 'revenue', 'surged', '70', 'profitable', 'food', 'delivery', 'segment', 'biggest', 'business', 'consumers', 'shift', 'online', 'food', 'delivery', 'pandemic', 'grab', 'reported', 'adjusted', 'net', 'revenue', '1', '6', 'billion', '2020', 'forecasts', 'rise', '4', '5', 'billion', '2023', 'expects', 'positive', 'earnings', 'taxes', 'depreciation', 'amortization', 'basis', '2023', 'evercore', 'lead', 'financial', 'advisor', 'grab', 'deal', 'jpmorgan', 'morgan', 'stanley', 'advisors', 'reuters']\n"
     ]
    }
   ],
   "metadata": {}
  },
  {
   "cell_type": "markdown",
   "source": [
    "# Explore\n",
    "\n",
    "- get top50 most common letter in the article"
   ],
   "metadata": {}
  },
  {
   "cell_type": "code",
   "execution_count": 9,
   "source": [
    "from collections import Counter\n",
    "\n",
    "# get top50 most common letter in the article\n",
    "print(Counter(tokens).most_common(50))"
   ],
   "outputs": [
    {
     "output_type": "stream",
     "name": "stdout",
     "text": [
      "[('grab', 22), ('billion', 11), ('business', 7), ('altimeter', 6), ('growth', 6), ('food', 5), ('delivery', 5), ('southeast', 5), ('asia', 4), ('company', 4), ('listing', 4), ('deal', 4), ('tan', 4), ('reuters', 4), ('digital', 4), ('singapore', 3), ('merger', 3), ('investors', 3), ('4', 3), ('investment', 3), ('financial', 3), ('transactions', 3), ('services', 3), ('reported', 3), ('global', 3), ('holdings', 2), ('ride', 2), ('hailing', 2), ('tuesday', 2), ('corp', 2), ('biggest', 2), ('raised', 2), ('united', 2), ('2020', 2), ('based', 2), ('spac', 2), ('capital', 2), ('malaysia', 2), ('public', 2), ('equity', 2), ('funds', 2), ('lead', 2), ('million', 2), ('markets', 2), ('founder', 2), ('market', 2), ('economies', 2), ('bank', 2), ('payments', 2), ('39', 2)]\n"
     ]
    }
   ],
   "metadata": {}
  },
  {
   "cell_type": "markdown",
   "source": [
    "# Model"
   ],
   "metadata": {}
  },
  {
   "cell_type": "markdown",
   "source": [
    "# iNterpret"
   ],
   "metadata": {}
  },
  {
   "cell_type": "markdown",
   "source": [],
   "metadata": {}
  }
 ],
 "metadata": {
  "orig_nbformat": 4,
  "language_info": {
   "name": "python",
   "version": "3.8.10",
   "mimetype": "text/x-python",
   "codemirror_mode": {
    "name": "ipython",
    "version": 3
   },
   "pygments_lexer": "ipython3",
   "nbconvert_exporter": "python",
   "file_extension": ".py"
  },
  "kernelspec": {
   "name": "python3",
   "display_name": "Python 3.8.10 64-bit ('quantra38': conda)"
  },
  "interpreter": {
   "hash": "ba02ef682c4040d20aeff24505da2d61e29df5e4d95d58036fbb82853e11aae6"
  }
 },
 "nbformat": 4,
 "nbformat_minor": 2
}