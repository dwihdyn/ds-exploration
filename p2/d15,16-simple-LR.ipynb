{
 "cells": [
  {
   "cell_type": "markdown",
   "source": [
    "# Obtain"
   ],
   "metadata": {}
  },
  {
   "cell_type": "code",
   "execution_count": 15,
   "source": [
    "import numpy as np\n",
    "import pandas as pd\n",
    "import seaborn as sns\n",
    "import matplotlib.pyplot as plt\n",
    "\n",
    "\n",
    "df = pd.read_csv(\"https://raw.githubusercontent.com/theleadio/datascience_demo/master/weight-height.csv\")\n",
    "df.sample(3)"
   ],
   "outputs": [
    {
     "output_type": "execute_result",
     "data": {
      "text/plain": [
       "      Gender     Height      Weight\n",
       "7198  Female  62.823443  126.796978\n",
       "1044    Male  69.679150  203.317012\n",
       "6259  Female  66.250751  140.534427"
      ],
      "text/html": [
       "<div>\n",
       "<style scoped>\n",
       "    .dataframe tbody tr th:only-of-type {\n",
       "        vertical-align: middle;\n",
       "    }\n",
       "\n",
       "    .dataframe tbody tr th {\n",
       "        vertical-align: top;\n",
       "    }\n",
       "\n",
       "    .dataframe thead th {\n",
       "        text-align: right;\n",
       "    }\n",
       "</style>\n",
       "<table border=\"1\" class=\"dataframe\">\n",
       "  <thead>\n",
       "    <tr style=\"text-align: right;\">\n",
       "      <th></th>\n",
       "      <th>Gender</th>\n",
       "      <th>Height</th>\n",
       "      <th>Weight</th>\n",
       "    </tr>\n",
       "  </thead>\n",
       "  <tbody>\n",
       "    <tr>\n",
       "      <th>7198</th>\n",
       "      <td>Female</td>\n",
       "      <td>62.823443</td>\n",
       "      <td>126.796978</td>\n",
       "    </tr>\n",
       "    <tr>\n",
       "      <th>1044</th>\n",
       "      <td>Male</td>\n",
       "      <td>69.679150</td>\n",
       "      <td>203.317012</td>\n",
       "    </tr>\n",
       "    <tr>\n",
       "      <th>6259</th>\n",
       "      <td>Female</td>\n",
       "      <td>66.250751</td>\n",
       "      <td>140.534427</td>\n",
       "    </tr>\n",
       "  </tbody>\n",
       "</table>\n",
       "</div>"
      ]
     },
     "metadata": {},
     "execution_count": 15
    }
   ],
   "metadata": {}
  },
  {
   "cell_type": "markdown",
   "source": [
    "# Scrub"
   ],
   "metadata": {}
  },
  {
   "cell_type": "code",
   "execution_count": 17,
   "source": [
    "# fix typo in dataset, subtitute weight & height\n",
    "df = df.rename(columns={'Height': 'Weight', 'Weight': 'Height'})\n",
    "df.sample(3)\n"
   ],
   "outputs": [
    {
     "output_type": "execute_result",
     "data": {
      "text/plain": [
       "      Gender     Weight      Height\n",
       "7668  Female  65.899990  159.849823\n",
       "474     Male  69.049478  192.349702\n",
       "7327  Female  61.968294  132.765642"
      ],
      "text/html": [
       "<div>\n",
       "<style scoped>\n",
       "    .dataframe tbody tr th:only-of-type {\n",
       "        vertical-align: middle;\n",
       "    }\n",
       "\n",
       "    .dataframe tbody tr th {\n",
       "        vertical-align: top;\n",
       "    }\n",
       "\n",
       "    .dataframe thead th {\n",
       "        text-align: right;\n",
       "    }\n",
       "</style>\n",
       "<table border=\"1\" class=\"dataframe\">\n",
       "  <thead>\n",
       "    <tr style=\"text-align: right;\">\n",
       "      <th></th>\n",
       "      <th>Gender</th>\n",
       "      <th>Weight</th>\n",
       "      <th>Height</th>\n",
       "    </tr>\n",
       "  </thead>\n",
       "  <tbody>\n",
       "    <tr>\n",
       "      <th>7668</th>\n",
       "      <td>Female</td>\n",
       "      <td>65.899990</td>\n",
       "      <td>159.849823</td>\n",
       "    </tr>\n",
       "    <tr>\n",
       "      <th>474</th>\n",
       "      <td>Male</td>\n",
       "      <td>69.049478</td>\n",
       "      <td>192.349702</td>\n",
       "    </tr>\n",
       "    <tr>\n",
       "      <th>7327</th>\n",
       "      <td>Female</td>\n",
       "      <td>61.968294</td>\n",
       "      <td>132.765642</td>\n",
       "    </tr>\n",
       "  </tbody>\n",
       "</table>\n",
       "</div>"
      ]
     },
     "metadata": {},
     "execution_count": 17
    }
   ],
   "metadata": {}
  },
  {
   "cell_type": "markdown",
   "source": [
    "# Explore"
   ],
   "metadata": {}
  },
  {
   "cell_type": "code",
   "execution_count": 18,
   "source": [
    "# regplot\n",
    "\n",
    "sns.set(rc = {'figure.figsize':(7,5)})\n",
    "sns.regplot(data = df.sample(200), x = 'Height' , y = 'Weight')"
   ],
   "outputs": [
    {
     "output_type": "execute_result",
     "data": {
      "text/plain": [
       "<AxesSubplot:xlabel='Height', ylabel='Weight'>"
      ]
     },
     "metadata": {},
     "execution_count": 18
    },
    {
     "output_type": "display_data",
     "data": {
      "text/plain": [
       "<Figure size 504x360 with 1 Axes>"
      ],
      "image/png": "[encoded data removed]"
     },
     "metadata": {}
    }
   ],
   "metadata": {}
  },
  {
   "cell_type": "markdown",
   "source": [
    "# Model\n",
    "\n",
    "- Linear Regression"
   ],
   "metadata": {}
  },
  {
   "cell_type": "code",
   "execution_count": 19,
   "source": [
    "# load packages\n",
    "from sklearn.model_selection import train_test_split\n",
    "from sklearn.linear_model import LinearRegression\n",
    "\n",
    "# create feature & target variable\n",
    "X = df[['Height']]\n",
    "y = df[['Weight']]\n",
    "\n",
    "# split to train & test data\n",
    "X_train, X_test, y_train, y_test = train_test_split(X, y, test_size=0.3, random_state=69)\n",
    "\n",
    "# train model\n",
    "model = LinearRegression()\n",
    "model = model.fit(X_train, y_train)\n",
    "\n",
    "# get model accuracy using test data (LinearRegression has build-in accuracy calculation)\n",
    "acc_score = model.score(X_test, y_test) \n",
    "\n",
    "print(f\"Model Accuracy on TEST data is {(acc_score * 100):.2f}\")\n"
   ],
   "outputs": [
    {
     "output_type": "stream",
     "name": "stdout",
     "text": [
      "Model Accuracy on TEST data is 84.55\n"
     ]
    }
   ],
   "metadata": {}
  },
  {
   "cell_type": "markdown",
   "source": [
    "# iNterpret"
   ],
   "metadata": {}
  },
  {
   "cell_type": "code",
   "execution_count": 22,
   "source": [
    "# lets predict shit\n",
    "model.predict([[169]])\n"
   ],
   "outputs": [
    {
     "output_type": "execute_result",
     "data": {
      "text/plain": [
       "array([[67.21332476]])"
      ]
     },
     "metadata": {},
     "execution_count": 22
    }
   ],
   "metadata": {}
  },
  {
   "cell_type": "code",
   "execution_count": 23,
   "source": [
    "# lets interpret this shit even deeper\n",
    "\n",
    "print(model.intercept_)\n",
    "print(model.coef_)\n"
   ],
   "outputs": [
    {
     "output_type": "stream",
     "name": "stdout",
     "text": [
      "[48.43966043]\n",
      "[[0.11108677]]\n"
     ]
    }
   ],
   "metadata": {}
  },
  {
   "cell_type": "markdown",
   "source": [
    "### Thanks to our advanced state-of-the-art machine learning model, powered by the cutting-edge big data technology, we can predict with extremely high accuracy in a matter of milisecond, that :\n",
    "\n",
    "- someone with 169cm likely to have 67.2kg of weight\n",
    "- model has equation of y = 0.1x + 48.4\n",
    "- in English, how does our state-of-the-art model works under-the-hood is that, they learn from all the data we provide, the general solution to get predicted height is to :\n",
    "    - multiply weight by 0.1\n",
    "    - and then add it with 48.4"
   ],
   "metadata": {}
  },
  {
   "cell_type": "markdown",
   "source": [],
   "metadata": {}
  }
 ],
 "metadata": {
  "orig_nbformat": 4,
  "language_info": {
   "name": "python",
   "version": "3.8.10",
   "mimetype": "text/x-python",
   "codemirror_mode": {
    "name": "ipython",
    "version": 3
   },
   "pygments_lexer": "ipython3",
   "nbconvert_exporter": "python",
   "file_extension": ".py"
  },
  "kernelspec": {
   "name": "python3",
   "display_name": "Python 3.8.10 64-bit ('quantra38': conda)"
  },
  "interpreter": {
   "hash": "ba02ef682c4040d20aeff24505da2d61e29df5e4d95d58036fbb82853e11aae6"
  }
 },
 "nbformat": 4,
 "nbformat_minor": 2
}