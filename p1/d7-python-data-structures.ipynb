{
 "cells": [
  {
   "cell_type": "markdown",
   "id": "990631f2",
   "metadata": {},
   "source": [
    "Given a string:\n",
    "“The quick brown fix jumps over the lazy dog”\n",
    "\n",
    "Write a script to find -\n",
    "\n",
    "- 1) Words that have exactly 3 characters\n",
    "- 2) Words that have more than 3 characters\n",
    "- 3) Words that start with vowel (aeiou)"
   ]
  },
  {
   "cell_type": "code",
   "execution_count": 24,
   "id": "e59a3a87",
   "metadata": {},
   "outputs": [],
   "source": [
    "# load main string into variable\n",
    "sen_ori = \"The quick brown fox jumps over the lazy dog\"\n",
    "\n",
    "# split sentence word-by-word\n",
    "sen = sen_ori.split()"
   ]
  },
  {
   "cell_type": "code",
   "execution_count": 25,
   "id": "ad303944",
   "metadata": {},
   "outputs": [
    {
     "name": "stdout",
     "output_type": "stream",
     "text": [
      "The\n",
      "fox\n",
      "the\n",
      "dog\n"
     ]
    }
   ],
   "source": [
    "# 1) print words that have exactly 3 characters\n",
    "\n",
    "for i in sen:\n",
    "    if len(i) == 3:\n",
    "        print(i)"
   ]
  },
  {
   "cell_type": "code",
   "execution_count": 26,
   "id": "78577dc9",
   "metadata": {},
   "outputs": [
    {
     "name": "stdout",
     "output_type": "stream",
     "text": [
      "quick\n",
      "brown\n",
      "jumps\n",
      "over\n",
      "lazy\n"
     ]
    }
   ],
   "source": [
    "# 2) Words that have more than 3 characters\n",
    "\n",
    "for i in sen:\n",
    "    if len(i) > 3:\n",
    "        print(i)"
   ]
  },
  {
   "cell_type": "code",
   "execution_count": 27,
   "id": "462f67de",
   "metadata": {},
   "outputs": [
    {
     "name": "stdout",
     "output_type": "stream",
     "text": [
      "over\n"
     ]
    }
   ],
   "source": [
    "# 3) Words that start with vowel (aeiou)\n",
    "\n",
    "vow = ['a', 'e', 'i', 'o', 'u']\n",
    "\n",
    "for i in sen:\n",
    "    if i[0] in vow:\n",
    "        print(i)"
   ]
  },
  {
   "cell_type": "code",
   "execution_count": null,
   "id": "d09c5c5f",
   "metadata": {},
   "outputs": [],
   "source": []
  }
 ],
 "metadata": {
  "kernelspec": {
   "display_name": "quantra38",
   "language": "python",
   "name": "quantra38"
  },
  "language_info": {
   "codemirror_mode": {
    "name": "ipython",
    "version": 3
   },
   "file_extension": ".py",
   "mimetype": "text/x-python",
   "name": "python",
   "nbconvert_exporter": "python",
   "pygments_lexer": "ipython3",
   "version": "3.8.10"
  }
 },
 "nbformat": 4,
 "nbformat_minor": 5
}
