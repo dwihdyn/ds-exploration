{
 "cells": [
  {
   "cell_type": "markdown",
   "source": [
    "# Sentiment analysis on grab SPAC\n",
    "\n",
    "## Carried forward from d20. search \"d22 continue here\""
   ],
   "metadata": {}
  },
  {
   "cell_type": "markdown",
   "source": [
    "# Obtain"
   ],
   "metadata": {}
  },
  {
   "cell_type": "code",
   "execution_count": 1,
   "source": [
    "import requests\n",
    "\n",
    "# grab SPAC\n",
    "url = 'https://raw.githubusercontent.com/theleadio/datascience_demo/master/grab-spac.txt'\n",
    "\n",
    "# # 'great gatsby' book from gutenberg.org\n",
    "# url = 'https://www.gutenberg.org/files/64317/64317-0.txt'\n",
    "\n",
    "# load .txt to our notebook\n",
    "response = requests.get(url)\n",
    "ori_text = response.text\n",
    "\n",
    "# print(ori_text)\n"
   ],
   "outputs": [],
   "metadata": {}
  },
  {
   "cell_type": "markdown",
   "source": [
    "# Scrub\n",
    "\n",
    "- remove punctuations & set all to lowecase\n",
    "- tokenize words\n",
    "- remove stopwords"
   ],
   "metadata": {}
  },
  {
   "cell_type": "code",
   "execution_count": 2,
   "source": [
    "# list of punctuations u want to remove\n",
    "text = ori_text\n",
    "punc = '''\\n!()-[]{};:'\"\\, <>./?@#$%^&*_~\\râ\\x80\\x9d\\x9c\\x99\\x94'''\n",
    "\n",
    "# remove punctuation by looping thru each character in the text, and replace punc with space ' '\n",
    "for char in text:\n",
    "    if char in punc:\n",
    "        text = text.replace(char, ' ')\n",
    "\n",
    "# set all to lowercase\n",
    "text = text.lower()\n",
    "\n",
    "# print(text)"
   ],
   "outputs": [],
   "metadata": {}
  },
  {
   "cell_type": "code",
   "execution_count": 3,
   "source": [
    "# tokenize word (split whole sentence to each letter) by space ' '\n",
    "\n",
    "tokens = text.split(' ')\n",
    "# print(tokens)"
   ],
   "outputs": [],
   "metadata": {}
  },
  {
   "cell_type": "code",
   "execution_count": 4,
   "source": [
    "# bring in pre-made list of stopwords\n",
    "sw_url = 'https://raw.githubusercontent.com/dwihdyn/ds-exploration/main/p3/stopwords-nlp.txt'\n",
    "response = requests.get(sw_url)\n",
    "stopwords = response.text.splitlines()\n",
    "\n",
    "# remove stopwords using loop\n",
    "tokens = [t for t in tokens if t not in stopwords and len(t) > 0]\n",
    "\n",
    "# print(token)\n"
   ],
   "outputs": [],
   "metadata": {}
  },
  {
   "cell_type": "markdown",
   "source": [
    "# Explore\n",
    "\n",
    "- get top50 most common letter in the article\n",
    "- sentiment analysis on each sentence in the paragraph"
   ],
   "metadata": {}
  },
  {
   "cell_type": "code",
   "execution_count": 5,
   "source": [
    "from collections import Counter\n",
    "\n",
    "# get top50 most common letter in the article\n",
    "print(Counter(tokens).most_common(50))\n",
    "\n"
   ],
   "outputs": [
    {
     "output_type": "stream",
     "name": "stdout",
     "text": [
      "[('grab', 22), ('billion', 11), ('business', 7), ('altimeter', 6), ('growth', 6), ('food', 5), ('delivery', 5), ('southeast', 5), ('asia', 4), ('company', 4), ('listing', 4), ('deal', 4), ('tan', 4), ('reuters', 4), ('digital', 4), ('singapore', 3), ('merger', 3), ('investors', 3), ('4', 3), ('investment', 3), ('financial', 3), ('transactions', 3), ('services', 3), ('reported', 3), ('global', 3), ('holdings', 2), ('ride', 2), ('hailing', 2), ('tuesday', 2), ('corp', 2), ('biggest', 2), ('raised', 2), ('united', 2), ('2020', 2), ('based', 2), ('spac', 2), ('capital', 2), ('malaysia', 2), ('public', 2), ('equity', 2), ('funds', 2), ('lead', 2), ('million', 2), ('markets', 2), ('founder', 2), ('market', 2), ('economies', 2), ('bank', 2), ('payments', 2), ('39', 2)]\n"
     ]
    }
   ],
   "metadata": {}
  },
  {
   "cell_type": "markdown",
   "source": [
    "### d22 continue here"
   ],
   "metadata": {}
  },
  {
   "cell_type": "code",
   "execution_count": 6,
   "source": [
    "# separate long paragraph into each sentences (total 28)\n",
    "sentences = list(filter(lambda x : x != '', ori_text.split('\\n\\n')))\n",
    "\n",
    "print(sentences[10])\n",
    "print(sentences[23])"
   ],
   "outputs": [
    {
     "output_type": "stream",
     "name": "stdout",
     "text": [
      "Reuters earlier reported that Grab would announce the deal on Tuesday.\n",
      "The listing will give Grab extra firepower in its main market of Indonesia, where local rival Gojek is close to sealing a merger with the country's leading e-commerce business, Tokopedia.\n"
     ]
    }
   ],
   "metadata": {}
  },
  {
   "cell_type": "code",
   "execution_count": 7,
   "source": [
    "# load packages\n",
    "import nltk\n",
    "from nltk.sentiment.vader import SentimentIntensityAnalyzer\n",
    "nltk.download('vader_lexicon')"
   ],
   "outputs": [
    {
     "output_type": "stream",
     "name": "stderr",
     "text": [
      "[nltk_data] Downloading package vader_lexicon to\n",
      "[nltk_data]     /Users/dwihadyan/nltk_data...\n",
      "[nltk_data]   Package vader_lexicon is already up-to-date!\n"
     ]
    },
    {
     "output_type": "execute_result",
     "data": {
      "text/plain": [
       "True"
      ]
     },
     "metadata": {},
     "execution_count": 7
    }
   ],
   "metadata": {}
  },
  {
   "cell_type": "code",
   "execution_count": 8,
   "source": [
    "# get sentiment score of each sentences using NLTK\n",
    "analyzer = SentimentIntensityAnalyzer()\n",
    "\n",
    "sentiment_score = []\n",
    "\n",
    "for i in sentences:\n",
    "    final_score = analyzer.polarity_scores(i)\n",
    "    sentiment_score.append(final_score.get('compound'))"
   ],
   "outputs": [],
   "metadata": {}
  },
  {
   "cell_type": "code",
   "execution_count": 9,
   "source": [
    "sentiment_score"
   ],
   "outputs": [
    {
     "output_type": "execute_result",
     "data": {
      "text/plain": [
       "[0.5994,\n",
       " 0.128,\n",
       " 0.5106,\n",
       " 0.0,\n",
       " 0.3612,\n",
       " 0.5106,\n",
       " 0.6124,\n",
       " 0.0,\n",
       " 0.128,\n",
       " 0.7717,\n",
       " 0.0,\n",
       " 0.6705,\n",
       " 0.5423,\n",
       " 0.0,\n",
       " 0.6597,\n",
       " 0.7003,\n",
       " -0.0516,\n",
       " 0.0,\n",
       " 0.0,\n",
       " 0.0258,\n",
       " -0.4019,\n",
       " 0.5256,\n",
       " 0.0,\n",
       " 0.0,\n",
       " 0.5719,\n",
       " 0.4404,\n",
       " 0.802,\n",
       " 0.0]"
      ]
     },
     "metadata": {},
     "execution_count": 9
    }
   ],
   "metadata": {}
  },
  {
   "cell_type": "code",
   "execution_count": 10,
   "source": [
    "print(sentences[16])\n",
    "print(sentiment_score[16])\n",
    "print('-----')\n",
    "print(sentences[20])\n",
    "print(sentiment_score[20])\n",
    "print('-----')\n",
    "print('Battle is a negative word, dont fight guys')"
   ],
   "outputs": [
    {
     "output_type": "stream",
     "name": "stdout",
     "text": [
      "Grab attracted global attention in 2018 when it acquired Uber's Southeast Asia business after a costly five-year battle in return for a stake in itself.\n",
      "-0.0516\n",
      "-----\n",
      "BATTLEGROUND INDONESIA\n",
      "-0.4019\n",
      "-----\n",
      "Battle is a negative word, dont fight guys\n"
     ]
    }
   ],
   "metadata": {}
  },
  {
   "cell_type": "markdown",
   "source": [
    "# Model"
   ],
   "metadata": {}
  },
  {
   "cell_type": "markdown",
   "source": [
    "# iNterpret"
   ],
   "metadata": {}
  },
  {
   "cell_type": "markdown",
   "source": [],
   "metadata": {}
  }
 ],
 "metadata": {
  "orig_nbformat": 4,
  "language_info": {
   "name": "python",
   "version": "3.8.10",
   "mimetype": "text/x-python",
   "codemirror_mode": {
    "name": "ipython",
    "version": 3
   },
   "pygments_lexer": "ipython3",
   "nbconvert_exporter": "python",
   "file_extension": ".py"
  },
  "kernelspec": {
   "name": "python3",
   "display_name": "Python 3.8.10 64-bit ('quantra38': conda)"
  },
  "interpreter": {
   "hash": "ba02ef682c4040d20aeff24505da2d61e29df5e4d95d58036fbb82853e11aae6"
  }
 },
 "nbformat": 4,
 "nbformat_minor": 2
}