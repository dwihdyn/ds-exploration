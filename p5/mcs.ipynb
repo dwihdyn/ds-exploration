{
 "cells": [
  {
   "cell_type": "markdown",
   "source": [
    "# Mall Customer Segmentation\n",
    "    - goal is to know which one is our best customer profile & focus attract those people AND find out why are they interested to us"
   ],
   "metadata": {}
  },
  {
   "cell_type": "markdown",
   "source": [
    "# Obtain"
   ],
   "metadata": {}
  },
  {
   "cell_type": "markdown",
   "source": [
    "# Scrub"
   ],
   "metadata": {}
  },
  {
   "cell_type": "markdown",
   "source": [
    "# Expore"
   ],
   "metadata": {}
  },
  {
   "cell_type": "markdown",
   "source": [
    "# Model"
   ],
   "metadata": {}
  },
  {
   "cell_type": "markdown",
   "source": [
    "# iNterpret"
   ],
   "metadata": {}
  },
  {
   "cell_type": "markdown",
   "source": [],
   "metadata": {}
  }
 ],
 "metadata": {
  "orig_nbformat": 4,
  "language_info": {
   "name": "python"
  }
 },
 "nbformat": 4,
 "nbformat_minor": 2
}