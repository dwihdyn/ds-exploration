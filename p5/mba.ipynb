{
 "cells": [
  {
   "cell_type": "markdown",
   "source": [
    "# Options :\n",
    "    - https://www.kaggle.com/roshansharma/market-basket-analysis\n",
    "    - https://www.kaggle.com/c/instacart-market-basket-analysis/overview\n",
    "    - https://www.kaggle.com/irfanasrullah/groceries\n",
    "    - https://www.kaggle.com/heeraldedhia/groceries-dataset"
   ],
   "metadata": {}
  },
  {
   "cell_type": "markdown",
   "source": [],
   "metadata": {}
  }
 ],
 "metadata": {
  "orig_nbformat": 4,
  "language_info": {
   "name": "python"
  }
 },
 "nbformat": 4,
 "nbformat_minor": 2
}