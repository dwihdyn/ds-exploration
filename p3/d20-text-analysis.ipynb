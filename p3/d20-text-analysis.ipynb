{
 "cells": [
  {
   "cell_type": "markdown",
   "source": [
    "# Basic Text Analysis\n",
    "\n",
    "1) grab SPAC\n",
    "2) 'great gatsby' book from gutenberg.org\n",
    "\n",
    "3) PDF article using https://www.geeksforgeeks.org/extract-text-from-pdf-file-using-python/\n",
    "4) online article using beautifulsoup"
   ],
   "metadata": {}
  },
  {
   "cell_type": "markdown",
   "source": [
    "# Obtain"
   ],
   "metadata": {}
  },
  {
   "cell_type": "code",
   "execution_count": 1,
   "source": [
    "import requests\n",
    "\n",
    "# # grab SPAC\n",
    "# url = 'https://raw.githubusercontent.com/dwihdyn/ds-exploration/main/p3/data/grab-spac.txt'\n",
    "\n",
    "# 'great gatsby' book from gutenberg.org\n",
    "url = 'https://www.gutenberg.org/files/64317/64317-0.txt'\n",
    "\n",
    "# load .txt to our notebook\n",
    "response = requests.get(url)\n",
    "text = response.text\n",
    "\n",
    "# print(text)"
   ],
   "outputs": [],
   "metadata": {}
  },
  {
   "cell_type": "markdown",
   "source": [
    "# Scrub\n",
    "\n",
    "- remove punctuations & set all to lowecase\n",
    "- tokenize words\n",
    "- remove stopwords"
   ],
   "metadata": {}
  },
  {
   "cell_type": "code",
   "execution_count": 2,
   "source": [
    "# list of punctuations u want to remove\n",
    "punc = '''\\n!()-[]{};:'\"\\, <>./?@#$%^&*_~\\râ\\x80\\x9d\\x9c\\x99\\x94'''\n",
    "\n",
    "# remove punctuation by looping thru each character in the text, and replace punc with space ' '\n",
    "for char in text:\n",
    "    if char in punc:\n",
    "        text = text.replace(char, ' ')\n",
    "\n",
    "# set all to lowercase\n",
    "text = text.lower()\n",
    "\n",
    "# print(text)"
   ],
   "outputs": [],
   "metadata": {}
  },
  {
   "cell_type": "code",
   "execution_count": 3,
   "source": [
    "# tokenize word (split whole sentence to each letter) by space ' '\n",
    "\n",
    "tokens = text.split(' ')\n",
    "# print(tokens)"
   ],
   "outputs": [],
   "metadata": {}
  },
  {
   "cell_type": "code",
   "execution_count": 4,
   "source": [
    "# bring in pre-made list of stopwords\n",
    "sw_url = 'https://raw.githubusercontent.com/dwihdyn/ds-exploration/main/p3/stopwords-nlp.txt'\n",
    "response = requests.get(sw_url)\n",
    "stopwords = response.text.splitlines()\n",
    "\n",
    "# remove stopwords using loop\n",
    "tokens = [t for t in tokens if t not in stopwords and len(t) > 0]\n",
    "# print(tokens)\n"
   ],
   "outputs": [],
   "metadata": {}
  },
  {
   "cell_type": "markdown",
   "source": [
    "# Explore\n",
    "\n",
    "- get top50 most common letter in the article"
   ],
   "metadata": {}
  },
  {
   "cell_type": "code",
   "execution_count": 5,
   "source": [
    "from collections import Counter\n",
    "\n",
    "# get top50 most common letter in the article\n",
    "print(Counter(tokens).most_common(50))\n",
    "\n"
   ],
   "outputs": [
    {
     "output_type": "stream",
     "name": "stdout",
     "text": [
      "[('the', 2593), ('and', 1635), ('a', 1471), ('i', 1390), ('of', 1242), ('to', 1213), ('in', 867), ('he', 857), ('was', 770), ('that', 658), ('it', 621), ('you', 596), ('his', 494), ('s', 487), ('with', 471), ('at', 421), ('t', 416), ('she', 413), ('her', 398), ('had', 381), ('on', 372), ('for', 339), ('me', 327), ('as', 281), ('him', 278), ('gatsby', 268), ('but', 260), ('from', 247), ('my', 244), ('we', 243), ('all', 236), ('said', 235), ('there', 219), ('out', 214), ('this', 211), ('up', 194), ('an', 193), ('tom', 190), ('daisy', 185), ('or', 179), ('were', 173), ('they', 170), ('if', 168), ('into', 168), ('about', 159), ('one', 154), ('by', 150), ('when', 147), ('what', 147), ('have', 145)]\n"
     ]
    }
   ],
   "metadata": {}
  },
  {
   "cell_type": "code",
   "execution_count": 6,
   "source": [
    "# get key in each tuple\n",
    "\n",
    "tes = Counter(tokens).most_common(50)\n",
    "res = [ele for key in tes for ele in key]\n",
    "\n",
    "key_tuple = []\n",
    "\n",
    "for i in res:\n",
    "    if type(i) == str:\n",
    "        key_tuple.append(i)\n",
    "\n",
    "# print(key_tuple)\n"
   ],
   "outputs": [],
   "metadata": {}
  },
  {
   "cell_type": "markdown",
   "source": [
    "# Model"
   ],
   "metadata": {}
  },
  {
   "cell_type": "markdown",
   "source": [
    "# iNterpret"
   ],
   "metadata": {}
  },
  {
   "cell_type": "markdown",
   "source": [],
   "metadata": {}
  }
 ],
 "metadata": {
  "orig_nbformat": 4,
  "language_info": {
   "name": "python",
   "version": "3.8.10",
   "mimetype": "text/x-python",
   "codemirror_mode": {
    "name": "ipython",
    "version": 3
   },
   "pygments_lexer": "ipython3",
   "nbconvert_exporter": "python",
   "file_extension": ".py"
  },
  "kernelspec": {
   "name": "python3",
   "display_name": "Python 3.8.10 64-bit ('quantra38': conda)"
  },
  "interpreter": {
   "hash": "ba02ef682c4040d20aeff24505da2d61e29df5e4d95d58036fbb82853e11aae6"
  }
 },
 "nbformat": 4,
 "nbformat_minor": 2
}