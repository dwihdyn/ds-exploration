{
 "cells": [
  {
   "cell_type": "markdown",
   "metadata": {},
   "source": [
    "https://pro.thelead.io/t/day-5-python-programming-basics/762/22"
   ]
  },
  {
   "cell_type": "markdown",
   "metadata": {},
   "source": [
    "# Celcius-to-Fahrenheit conversion\n"
   ]
  },
  {
   "cell_type": "code",
   "execution_count": null,
   "metadata": {},
   "outputs": [],
   "source": []
  },
  {
   "cell_type": "code",
   "execution_count": 17,
   "metadata": {},
   "outputs": [
    {
     "name": "stdout",
     "output_type": "stream",
     "text": [
      "Type 'C' if you wish to convert from Celcius to Fahrenheit, 'F' for vise versa\n",
      "bro is either type C or F, try again\n"
     ]
    }
   ],
   "source": [
    "print(\"Type 'C' if you wish to convert from Celcius to Fahrenheit, 'F' for vise versa\") \n",
    "\n",
    "c_or_f = input()\n",
    "\n",
    "if c_or_f == 'C':\n",
    "    print(\"Enter any number that to be converted from celcius to fahrenheit : \")\n",
    "    temp = float(input())\n",
    "    print(f\"{temp} Celcius = {(temp * (9/5) + 32):.2f} Fahrenheit\")\n",
    "\n",
    "elif c_or_f == 'F':\n",
    "    print(\"Enter any number that to be converted from fahrenheit to celcius : \")\n",
    "    temp = float(input())\n",
    "    print(f\"{temp} Fahrenheit = {((temp - 32) * (5/9)) :.2f} Celcius\")\n",
    "    \n",
    "else:\n",
    "    print('bro is either type C or F, try again')\n"
   ]
  },
  {
   "cell_type": "code",
   "execution_count": null,
   "metadata": {},
   "outputs": [],
   "source": []
  },
  {
   "cell_type": "markdown",
   "metadata": {},
   "source": [
    "# BMI calculation\n",
    "\n",
    "BMI = (weight / height^2) * 10^4\n",
    "\n",
    "- A. male, 168cm, 58kg\n",
    "- B. female, 157cm, 42kg\n",
    "- C. male, 172cm, 85kg\n",
    "\n"
   ]
  },
  {
   "cell_type": "code",
   "execution_count": 20,
   "metadata": {},
   "outputs": [
    {
     "name": "stdout",
     "output_type": "stream",
     "text": [
      "Candidate A BMI is 20.55\n",
      "Candidate B BMI is 17.04\n",
      "Candidate C BMI is 28.73\n"
     ]
    }
   ],
   "source": [
    "# insert each candidate details\n",
    "A = {\n",
    "    \"Name\":\"A\",\n",
    "     \"Gender\": \"Male\",\n",
    "     \"Height\":168,\n",
    "     \"Weight\":58\n",
    "}\n",
    "\n",
    "B = {\n",
    "    \"Name\":\"B\",\n",
    "     \"Gender\":\"Female\",\n",
    "     \"Height\":157,\n",
    "     \"Weight\":42\n",
    "}\n",
    "\n",
    "C = {\n",
    "    \"Name\":\"C\",\n",
    "    \"Gender\":\"Male\",\n",
    "     \"Height\":172,\n",
    "     \"Weight\":85\n",
    "}\n",
    "\n",
    "\n",
    "cdd = [A,B,C]\n",
    "\n",
    "# rathen than calculate it 3 times, we loop it \n",
    "for i in cdd:\n",
    "    print(f\"Candidate {i['Name']} BMI is {((i['Weight']/ (i['Height']**2) ) *10**4):.2f}\")"
   ]
  },
  {
   "cell_type": "code",
   "execution_count": null,
   "metadata": {},
   "outputs": [],
   "source": []
  },
  {
   "cell_type": "code",
   "execution_count": null,
   "metadata": {},
   "outputs": [],
   "source": []
  }
 ],
 "metadata": {
  "interpreter": {
   "hash": "9b6608ef950f23fa75b8809c93ef26153204b6669bad16fa579f3c654e0388a0"
  },
  "kernelspec": {
   "display_name": "Python 3 (ipykernel)",
   "language": "python",
   "name": "python3"
  },
  "language_info": {
   "codemirror_mode": {
    "name": "ipython",
    "version": 3
   },
   "file_extension": ".py",
   "mimetype": "text/x-python",
   "name": "python",
   "nbconvert_exporter": "python",
   "pygments_lexer": "ipython3",
   "version": "3.8.10"
  }
 },
 "nbformat": 4,
 "nbformat_minor": 2
}
